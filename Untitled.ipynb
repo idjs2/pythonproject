{
 "cells": [
  {
   "cell_type": "code",
   "execution_count": null,
   "id": "91255b13-c2d8-4152-ba3a-5b5057c42673",
   "metadata": {},
   "outputs": [],
   "source": [
    "type(10)"
   ]
  },
  {
   "cell_type": "code",
   "execution_count": null,
   "id": "fa9e794d-49e5-4e4e-b23e-acfde6670964",
   "metadata": {},
   "outputs": [],
   "source": [
    "a = input('숫자를 입력하세요 >>> ')"
   ]
  },
  {
   "cell_type": "code",
   "execution_count": null,
   "id": "a982d33f-84ef-47e2-9243-4312ff37ebc5",
   "metadata": {},
   "outputs": [],
   "source": [
    "b = input('숫자를 입력하세요 >>> ')\n",
    "type(b)"
   ]
  },
  {
   "cell_type": "code",
   "execution_count": null,
   "id": "6080aa3a-616a-4f5a-97d6-a7d89e8fcfff",
   "metadata": {},
   "outputs": [],
   "source": [
    "int(b)"
   ]
  },
  {
   "cell_type": "markdown",
   "id": "193abd93-e012-4291-b897-add9e4e9cdc8",
   "metadata": {},
   "source": [
    "박스당 과일을 넣어서 몇 박스 몇 개인지를 출력해주는 프로그램\n",
    " - 조건체크 : 입력값이 숫자인지 여부 채크해서 진행\n",
    " - 입력 받을 값 : 박스당 과일수, 전체 과일수\n",
    " - 출력 내용 : X박스 X개"
   ]
  },
  {
   "cell_type": "code",
   "execution_count": 1,
   "id": "618b8703-cea2-4bfa-a86d-6e62de118486",
   "metadata": {},
   "outputs": [
    {
     "name": "stdin",
     "output_type": "stream",
     "text": [
      "박스당 과일수 =  5\n",
      "전체 과일수 =  20\n"
     ]
    },
    {
     "name": "stdout",
     "output_type": "stream",
     "text": [
      "4 박스  0 개\n"
     ]
    }
   ],
   "source": [
    "fruit = input(\"박스당 과일수 = \")\n",
    "total = input(\"전체 과일수 = \")\n",
    "\n",
    "\n",
    "if fruit.isdecimal() :\n",
    "    fruit = int(fruit)\n",
    "    if total.isdecimal() :\n",
    "        total = int(total)\n",
    "        print(total//fruit, \"박스 \", total%fruit, \"개\")\n",
    "    else :\n",
    "        print(\"숫자를 입력하세요.\")\n",
    "else :\n",
    "    print(\"숫자를 입력하세요.\")"
   ]
  },
  {
   "cell_type": "code",
   "execution_count": null,
   "id": "89443e87-d7d7-44d1-8375-caa7454fd788",
   "metadata": {},
   "outputs": [],
   "source": [
    "#해설\n",
    "\n",
    "a1 = input('박스당 과일의 개수 >>>')\n",
    "a2 = input('전체 과일수 >>>')\n",
    "\n",
    "if a1.isdecimal() and a2.isdecimal():\n",
    "    a1, a2 = int(a1), int(a2)\n",
    "    box = a2//a1\n",
    "    count = a2%a1\n",
    "    print(box, '박스 ', count, '개')\n",
    "else :\n",
    "    print('입력값이 잘못되었습니다.')"
   ]
  },
  {
   "cell_type": "code",
   "execution_count": null,
   "id": "7573dd0e-166e-4822-b9b9-3cfbd0f9211e",
   "metadata": {},
   "outputs": [],
   "source": [
    "if b.isdecimal() :\n",
    "    print('바보')\n",
    "else :\n",
    "    print('천재')"
   ]
  },
  {
   "cell_type": "code",
   "execution_count": null,
   "id": "7f96b7d5-e8cd-4221-a7af-4ddf34ffdb8f",
   "metadata": {},
   "outputs": [],
   "source": [
    "fruit = input(\"박스당 과일수 = \")\n",
    "total = input(\"전체 과일수 = \")\n",
    "\n",
    "fruit.isdecimal()"
   ]
  },
  {
   "cell_type": "code",
   "execution_count": 4,
   "id": "ba1d998a-8409-4823-8f93-99b2ebcd6618",
   "metadata": {},
   "outputs": [
    {
     "data": {
      "text/plain": [
       "tuple"
      ]
     },
     "execution_count": 4,
     "metadata": {},
     "output_type": "execute_result"
    }
   ],
   "source": [
    "type(a)"
   ]
  },
  {
   "cell_type": "code",
   "execution_count": null,
   "id": "3e63714b-7e96-40b9-9b1f-644496134c99",
   "metadata": {},
   "outputs": [],
   "source": [
    "if b.isdecimal() :\n",
    "    print(\"참일때 해야될일\")\n",
    "elif b.isalpha() :\n",
    "    print(\"문자일때 할일\")\n",
    "else :\n",
    "    print(\"그외 나머지\")"
   ]
  },
  {
   "cell_type": "code",
   "execution_count": null,
   "id": "932a38b7-3ba8-475d-ab79-5a33574acd7e",
   "metadata": {},
   "outputs": [],
   "source": [
    "if 조건식 :\n",
    "    명령\n",
    "else :\n",
    "    명령\n",
    "elif 조건식 :\n",
    "    명령\n",
    "    \n",
    "    \n",
    "0, 값 없음 = False\n",
    "나머지, 뭐든 있음 = True"
   ]
  },
  {
   "cell_type": "code",
   "execution_count": 3,
   "id": "dbbf1e3f-ae1f-4e03-abbe-c1d120abfbd8",
   "metadata": {},
   "outputs": [],
   "source": [
    "a = divmod(5,2)"
   ]
  },
  {
   "cell_type": "code",
   "execution_count": null,
   "id": "3be1327a-9f81-46d0-b509-81a5f7db8839",
   "metadata": {},
   "outputs": [],
   "source": [
    "type(a)"
   ]
  },
  {
   "cell_type": "code",
   "execution_count": null,
   "id": "7aa443b5-fbf7-492f-894d-287cb7682548",
   "metadata": {},
   "outputs": [],
   "source": []
  },
  {
   "cell_type": "code",
   "execution_count": null,
   "id": "63043812-f3e8-4da9-b298-a839ef1c330c",
   "metadata": {},
   "outputs": [],
   "source": [
    "a = [1,2,3,4,5]"
   ]
  },
  {
   "cell_type": "code",
   "execution_count": null,
   "id": "0709247f-5ae0-442a-83bf-8832b74d0c2b",
   "metadata": {},
   "outputs": [],
   "source": [
    "type(a)"
   ]
  },
  {
   "cell_type": "code",
   "execution_count": null,
   "id": "ae3d52f4-ed06-4ded-ae83-92d3edb1ea00",
   "metadata": {},
   "outputs": [],
   "source": [
    "del a[1]"
   ]
  },
  {
   "cell_type": "code",
   "execution_count": null,
   "id": "6fb172e0-7c35-4362-9352-c37c37f33078",
   "metadata": {},
   "outputs": [],
   "source": [
    "a"
   ]
  },
  {
   "cell_type": "code",
   "execution_count": 9,
   "id": "e9091b1e-fd27-4c8f-8a54-12bf57ab09ce",
   "metadata": {},
   "outputs": [
    {
     "name": "stdin",
     "output_type": "stream",
     "text": [
      "숫자 두 개를 입력하세요:  5 21\n"
     ]
    },
    {
     "name": "stdout",
     "output_type": "stream",
     "text": [
      "5 21\n"
     ]
    }
   ],
   "source": [
    "a, b = input('숫자 두 개를 입력하세요: ').split()\n",
    "a = int(a)\n",
    "b = int(b)\n",
    "\n",
    "print(a, b)"
   ]
  },
  {
   "cell_type": "code",
   "execution_count": 10,
   "id": "2bc3aba3-c7f9-42e9-bc3c-2e07ce18c44f",
   "metadata": {},
   "outputs": [
    {
     "data": {
      "text/plain": [
       "['안녕', '하세요']"
      ]
     },
     "execution_count": 10,
     "metadata": {},
     "output_type": "execute_result"
    }
   ],
   "source": [
    "'안녕 하세요'.split()"
   ]
  },
  {
   "cell_type": "code",
   "execution_count": 12,
   "id": "14f4390e-b809-4330-840a-1d239f757837",
   "metadata": {},
   "outputs": [
    {
     "data": {
      "text/plain": [
       "['안녕', '하세요']"
      ]
     },
     "execution_count": 12,
     "metadata": {},
     "output_type": "execute_result"
    }
   ],
   "source": [
    "a = '안녕 하세요'\n",
    "a.split()"
   ]
  },
  {
   "cell_type": "code",
   "execution_count": 13,
   "id": "76723e3d-327c-4618-bbc6-2a68caaa4a12",
   "metadata": {},
   "outputs": [
    {
     "name": "stdin",
     "output_type": "stream",
     "text": [
      " 안녕 하세요 오늘은 정말 날씨가 좋아요\n"
     ]
    },
    {
     "data": {
      "text/plain": [
       "['안녕', '하세요', '오늘은', '정말', '날씨가', '좋아요']"
      ]
     },
     "execution_count": 13,
     "metadata": {},
     "output_type": "execute_result"
    }
   ],
   "source": [
    "input().split()"
   ]
  },
  {
   "cell_type": "code",
   "execution_count": 22,
   "id": "aa800117-87fa-4746-bd60-a696837edeeb",
   "metadata": {},
   "outputs": [
    {
     "name": "stdout",
     "output_type": "stream",
     "text": [
      "a\n",
      "b\n",
      "c\n",
      "ddd\n"
     ]
    }
   ],
   "source": [
    "print('a','b','c', sep='\\n')\n",
    "print('ddd')"
   ]
  },
  {
   "cell_type": "code",
   "execution_count": 27,
   "id": "27578366-ed57-4534-88ba-6a9730cd0a62",
   "metadata": {},
   "outputs": [
    {
     "data": {
      "text/plain": [
       "\"교실에서 '안녕!'이라고 인사하기\""
      ]
     },
     "execution_count": 27,
     "metadata": {},
     "output_type": "execute_result"
    }
   ],
   "source": [
    "\"교실에서 '안녕!'이라고 인사하기\""
   ]
  },
  {
   "cell_type": "code",
   "execution_count": 28,
   "id": "9eae4e62-60e0-44bd-a7b6-b80e723fbec5",
   "metadata": {},
   "outputs": [
    {
     "data": {
      "text/plain": [
       "'안녕\\n하세요\\n안녕!\\n'"
      ]
     },
     "execution_count": 28,
     "metadata": {},
     "output_type": "execute_result"
    }
   ],
   "source": [
    "#줄 바꾸기 예제\n",
    "\n",
    "'''안녕\n",
    "하세요\n",
    "안녕!\n",
    "'''"
   ]
  },
  {
   "cell_type": "code",
   "execution_count": 29,
   "id": "00d86eca-b9bc-4f05-be83-d615e22f8d59",
   "metadata": {},
   "outputs": [
    {
     "data": {
      "text/plain": [
       "'아\\n니\\n'"
      ]
     },
     "execution_count": 29,
     "metadata": {},
     "output_type": "execute_result"
    }
   ],
   "source": [
    "'아\\n니\\n'"
   ]
  },
  {
   "cell_type": "code",
   "execution_count": 4,
   "id": "2dbd271f-568e-4e5e-aa0f-b3cbcaf98b33",
   "metadata": {},
   "outputs": [
    {
     "data": {
      "text/plain": [
       "'I eat 3 apple. total 6'"
      ]
     },
     "execution_count": 4,
     "metadata": {},
     "output_type": "execute_result"
    }
   ],
   "source": [
    "'I eat {} apple. total {}'.format(3, 6)"
   ]
  },
  {
   "cell_type": "code",
   "execution_count": 3,
   "id": "7cbbecd1-8c83-42a4-a686-eefc2fa61557",
   "metadata": {},
   "outputs": [
    {
     "data": {
      "text/plain": [
       "'I eat 3 aples.'"
      ]
     },
     "execution_count": 3,
     "metadata": {},
     "output_type": "execute_result"
    }
   ],
   "source": [
    "\"I eat %d aples.\" % 3"
   ]
  },
  {
   "cell_type": "code",
   "execution_count": 6,
   "id": "46fa15d1-2470-49b5-a647-b6f689e23359",
   "metadata": {},
   "outputs": [
    {
     "data": {
      "text/plain": [
       "'I eat 3.1235 apple. total 6'"
      ]
     },
     "execution_count": 6,
     "metadata": {},
     "output_type": "execute_result"
    }
   ],
   "source": [
    "'I eat {:.4f} apple. total {}'.format(3.1234567,6)"
   ]
  },
  {
   "cell_type": "code",
   "execution_count": 10,
   "id": "66b42a36-6d68-4734-badf-de66d428cfd0",
   "metadata": {},
   "outputs": [
    {
     "data": {
      "text/plain": [
       "'I eat       3.12 apple. total 6'"
      ]
     },
     "execution_count": 10,
     "metadata": {},
     "output_type": "execute_result"
    }
   ],
   "source": [
    "'I eat {:>10.2f} apple. total {}'.format(3.12, 6)"
   ]
  },
  {
   "cell_type": "code",
   "execution_count": 18,
   "id": "5817926b-9654-460c-88d0-3bd177c087b5",
   "metadata": {},
   "outputs": [
    {
     "data": {
      "text/plain": [
       "'I eat 321212.12  apple. total 6'"
      ]
     },
     "execution_count": 18,
     "metadata": {},
     "output_type": "execute_result"
    }
   ],
   "source": [
    "value = 321212.1234567\n",
    "'I eat {:^10.2f} apple. total {}'.format(value, 6)"
   ]
  },
  {
   "cell_type": "code",
   "execution_count": 19,
   "id": "184f2ce0-2181-47b3-9c41-ab3b14e2651b",
   "metadata": {},
   "outputs": [
    {
     "data": {
      "text/plain": [
       "'I eat 321,212.12 apple.'"
      ]
     },
     "execution_count": 19,
     "metadata": {},
     "output_type": "execute_result"
    }
   ],
   "source": [
    "f'I eat {value:^10,.2f} apple.'"
   ]
  },
  {
   "cell_type": "code",
   "execution_count": 30,
   "id": "76798cd7-e6d8-419e-b6fb-40a3d107896e",
   "metadata": {},
   "outputs": [
    {
     "data": {
      "text/plain": [
       "('s', 'o')"
      ]
     },
     "execution_count": 30,
     "metadata": {},
     "output_type": "execute_result"
    }
   ],
   "source": [
    "#문자열 인덱싱(일부문자 추출)\n",
    "a = \"Life is too short, You need Python\"\n",
    "a[12], a[-2]"
   ]
  },
  {
   "cell_type": "code",
   "execution_count": 29,
   "id": "e0ddd8e1-b533-402d-84b0-dd278f34fbd2",
   "metadata": {},
   "outputs": [
    {
     "data": {
      "text/plain": [
       "'Life'"
      ]
     },
     "execution_count": 29,
     "metadata": {},
     "output_type": "execute_result"
    }
   ],
   "source": [
    "#문자열 슬라이싱(일부문장 추출)   -   0이상 4미만 추출\n",
    "a[0:4]"
   ]
  },
  {
   "cell_type": "code",
   "execution_count": 31,
   "id": "b0ba53dd-2b01-405f-93b9-27e06b9a99c9",
   "metadata": {},
   "outputs": [
    {
     "data": {
      "text/plain": [
       "'hon'"
      ]
     },
     "execution_count": 31,
     "metadata": {},
     "output_type": "execute_result"
    }
   ],
   "source": [
    "a[-3:]"
   ]
  },
  {
   "cell_type": "code",
   "execution_count": 32,
   "id": "bda07cac-3283-4875-b184-8eafe52b9eb8",
   "metadata": {},
   "outputs": [
    {
     "name": "stdin",
     "output_type": "stream",
     "text": [
      "이메일을 입력하세요 sh.co.kr\n"
     ]
    },
    {
     "data": {
      "text/plain": [
       "0"
      ]
     },
     "execution_count": 32,
     "metadata": {},
     "output_type": "execute_result"
    }
   ],
   "source": [
    "email = input('이메일을 입력하세요')\n",
    "count = email.count('@')  #문자열에서 @개수 세기\n",
    "count"
   ]
  },
  {
   "cell_type": "code",
   "execution_count": 34,
   "id": "78bae161-3513-4fce-873a-1ea515241354",
   "metadata": {},
   "outputs": [
    {
     "data": {
      "text/plain": [
       "14"
      ]
     },
     "execution_count": 34,
     "metadata": {},
     "output_type": "execute_result"
    }
   ],
   "source": [
    "a = \"Python is the best choice\"\n",
    "a.find('b')   #문자열에서 b의 위치 찾기"
   ]
  },
  {
   "cell_type": "code",
   "execution_count": 35,
   "id": "2bb4ea0e-506e-4448-9479-15e05f5aab9a",
   "metadata": {},
   "outputs": [
    {
     "data": {
      "text/plain": [
       "-1"
      ]
     },
     "execution_count": 35,
     "metadata": {},
     "output_type": "execute_result"
    }
   ],
   "source": [
    "a.find('k')   #k가 없는 경우 -1로 표기 (오류가 뜨지 않음)"
   ]
  }
 ],
 "metadata": {
  "kernelspec": {
   "display_name": "Python 3 (ipykernel)",
   "language": "python",
   "name": "python3"
  },
  "language_info": {
   "codemirror_mode": {
    "name": "ipython",
    "version": 3
   },
   "file_extension": ".py",
   "mimetype": "text/x-python",
   "name": "python",
   "nbconvert_exporter": "python",
   "pygments_lexer": "ipython3",
   "version": "3.9.7"
  }
 },
 "nbformat": 4,
 "nbformat_minor": 5
}
