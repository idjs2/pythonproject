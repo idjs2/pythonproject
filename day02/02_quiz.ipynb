{
 "cells": [
  {
   "cell_type": "markdown",
   "id": "dcf4f8ed-ed55-4611-8a23-f667e8892dca",
   "metadata": {},
   "source": [
    "### quiz 06> "
   ]
  },
  {
   "cell_type": "raw",
   "id": "47656a47-705a-4d61-8ee3-f7a162a88178",
   "metadata": {},
   "source": [
    "앞에 타자 게임을 활용\n",
    "- 1. "
   ]
  },
  {
   "cell_type": "code",
   "execution_count": null,
   "id": "a4b58e63-2e0d-490f-a8d6-f32f75c59f75",
   "metadata": {},
   "outputs": [],
   "source": [
    "import random, time, json\n",
    "\n",
    "word = [\"cat\",\"dog\",\"fox\",\"monkey\",\"mouse\",\"panda\",\"frog\",\"snake\",\"wolf\"]\n",
    "# rank = {'aaa' :10.111}\n",
    "\n",
    "# with open('word.json','r') as f :\n",
    "#     word = json.load(f)\n",
    "with open('rank."
   ]
  },
  {
   "cell_type": "code",
   "execution_count": null,
   "id": "24d6597f-4bfd-4691-8d83-c5e8aea07d91",
   "metadata": {},
   "outputs": [],
   "source": []
  },
  {
   "cell_type": "code",
   "execution_count": null,
   "id": "bd9ce5c9-8246-4fe0-8377-0587e2003b78",
   "metadata": {},
   "outputs": [],
   "source": []
  }
 ],
 "metadata": {
  "kernelspec": {
   "display_name": "Python 3 (ipykernel)",
   "language": "python",
   "name": "python3"
  },
  "language_info": {
   "codemirror_mode": {
    "name": "ipython",
    "version": 3
   },
   "file_extension": ".py",
   "mimetype": "text/x-python",
   "name": "python",
   "nbconvert_exporter": "python",
   "pygments_lexer": "ipython3",
   "version": "3.9.7"
  }
 },
 "nbformat": 4,
 "nbformat_minor": 5
}
