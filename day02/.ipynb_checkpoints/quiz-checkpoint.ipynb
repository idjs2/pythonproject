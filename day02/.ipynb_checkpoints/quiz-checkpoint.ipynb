{
 "cells": [
  {
   "cell_type": "markdown",
   "id": "9296b72a-a05a-416a-b923-422047d77571",
   "metadata": {},
   "source": [
    "### quiz 01> 주민등록번호 및 성별 체크"
   ]
  },
  {
   "cell_type": "raw",
   "id": "ecf18042-687a-4bb7-995d-d447889a388a",
   "metadata": {},
   "source": [
    "주민등록번호 14자리를 입력받아서 성별을 체크합니다.\n",
    "프로그램 종료는 (q,Q)를 누를때 까지 반복처리합니다.\n",
    "\n",
    "입력예제 : 123456-1234567\n",
    "조건처리 : 길이값 체크 / 성별 체크(가능값1,2,3,4)\n",
    "출력 : 여서입니다. or 남성입니다."
   ]
  },
  {
   "cell_type": "code",
   "execution_count": 33,
   "id": "5cea8a4a-637d-4db2-b103-ca9b5dee8b8f",
   "metadata": {},
   "outputs": [
    {
     "name": "stdin",
     "output_type": "stream",
     "text": [
      "주민등록번호 :  9710161794417\n"
     ]
    },
    {
     "data": {
      "text/plain": [
       "'9710161794417'"
      ]
     },
     "execution_count": 33,
     "metadata": {},
     "output_type": "execute_result"
    }
   ],
   "source": [
    "num = input(\"주민등록번호 : \")\n",
    "num"
   ]
  },
  {
   "cell_type": "code",
   "execution_count": 17,
   "id": "e76cc16e-ec96-4769-9782-36e59fafab1c",
   "metadata": {},
   "outputs": [],
   "source": [
    "num1 = num.split(sep='-')"
   ]
  },
  {
   "cell_type": "code",
   "execution_count": 30,
   "id": "bf4f348b-c253-4b1a-8a3e-5a19da18f6be",
   "metadata": {},
   "outputs": [
    {
     "data": {
      "text/plain": [
       "1"
      ]
     },
     "execution_count": 30,
     "metadata": {},
     "output_type": "execute_result"
    }
   ],
   "source": [
    "r = int(list(num1[1])[0])\n",
    "r"
   ]
  },
  {
   "cell_type": "code",
   "execution_count": 31,
   "id": "27e4641d-5af4-43f9-80f4-ffd2796e84bc",
   "metadata": {},
   "outputs": [
    {
     "data": {
      "text/plain": [
       "['9', '7', '1', '0', '1', '6', '-', '1', '7', '9', '4', '4', '1', '7']"
      ]
     },
     "execution_count": 31,
     "metadata": {},
     "output_type": "execute_result"
    }
   ],
   "source": [
    "list(num)"
   ]
  },
  {
   "cell_type": "markdown",
   "id": "d1f5d68f-358a-41bd-b07c-b86fe98401ba",
   "metadata": {},
   "source": [
    "#### 해설"
   ]
  },
  {
   "cell_type": "code",
   "execution_count": 50,
   "id": "e5888739-7989-4420-9ed7-e049e5ed2572",
   "metadata": {},
   "outputs": [
    {
     "name": "stdin",
     "output_type": "stream",
     "text": [
      "주민등록번호 입력(14자리, 종료:q,Q) >>>  971016-1794417\n"
     ]
    },
    {
     "name": "stdout",
     "output_type": "stream",
     "text": [
      "남성입니다.\n"
     ]
    },
    {
     "name": "stdin",
     "output_type": "stream",
     "text": [
      "주민등록번호 입력(14자리, 종료:q,Q) >>>  1\n"
     ]
    },
    {
     "name": "stdout",
     "output_type": "stream",
     "text": [
      "입력 문자의 길이가 안맞거나, 성별값의 범위가 아닙니다.\n"
     ]
    },
    {
     "name": "stdin",
     "output_type": "stream",
     "text": [
      "주민등록번호 입력(14자리, 종료:q,Q) >>>  q\n"
     ]
    },
    {
     "name": "stdout",
     "output_type": "stream",
     "text": [
      "프로그램 종료\n"
     ]
    }
   ],
   "source": [
    "while True :  #무한 반복\n",
    "    invalue = input('주민등록번호 입력(14자리, 종료:q,Q) >>> ')\n",
    "    if len(invalue) == 1 and invalue.lower() == 'q' :\n",
    "        print('프로그램 종료')\n",
    "        break    #가까운 while문 또는 for문을 종료\n",
    "    elif len(invalue) == 14 and invalue[6] == '-' and invalue[7] in ['1','2','3','4'] :  #14자리 and '-' and 7번째 자리가 1,2,3,4 인 경우\n",
    "        if invalue[7] in ['1','3'] :\n",
    "            print('남성입니다.')\n",
    "        else :\n",
    "            print('여성입니다.')\n",
    "    else :\n",
    "        print('입력 문자의 길이가 안맞거나, 성별값의 범위가 아닙니다.')"
   ]
  },
  {
   "cell_type": "code",
   "execution_count": 49,
   "id": "96fa195d-fc04-4149-ab79-c5f96e5e02c1",
   "metadata": {},
   "outputs": [
    {
     "data": {
      "text/plain": [
       "4"
      ]
     },
     "execution_count": 49,
     "metadata": {},
     "output_type": "execute_result"
    }
   ],
   "source": [
    "len('high')"
   ]
  },
  {
   "cell_type": "markdown",
   "id": "89b73120-c5bc-4997-8979-9e5cc64e64d0",
   "metadata": {},
   "source": [
    "### quiz 02> 로또 번호 추출기"
   ]
  },
  {
   "cell_type": "raw",
   "id": "d0f8bd4a-67d1-46e1-b14e-ab6af5052ab9",
   "metadata": {},
   "source": [
    "총 5세트의 번호를 추출합니다.\n",
    "한 세트당 번호는 6개\n",
    "번호는 1~45\n",
    "번호는 중복불가\n",
    "번호 출력시 오름차순 정렬"
   ]
  },
  {
   "cell_type": "code",
   "execution_count": 51,
   "id": "050cce17-5d3b-4069-820a-394d309d57e4",
   "metadata": {},
   "outputs": [],
   "source": [
    "import random  #파이썬기본함수가 아님"
   ]
  },
  {
   "cell_type": "code",
   "execution_count": 66,
   "id": "caec59e3-91b7-42dc-b4ab-588675e1b0d4",
   "metadata": {},
   "outputs": [
    {
     "data": {
      "text/plain": [
       "0.9142882829991194"
      ]
     },
     "execution_count": 66,
     "metadata": {},
     "output_type": "execute_result"
    }
   ],
   "source": [
    "random.random()  #0~1사이 랜덤실수값"
   ]
  },
  {
   "cell_type": "code",
   "execution_count": 97,
   "id": "5b05ade0-cf0c-4ad0-9d12-a43e0c5671d3",
   "metadata": {},
   "outputs": [
    {
     "data": {
      "text/plain": [
       "11"
      ]
     },
     "execution_count": 97,
     "metadata": {},
     "output_type": "execute_result"
    }
   ],
   "source": [
    "random.randint(1,45)  #1이상 45이하 랜덤정수값"
   ]
  },
  {
   "cell_type": "code",
   "execution_count": 1,
   "id": "87a5c165-ad4b-45b1-8026-245b023898b8",
   "metadata": {},
   "outputs": [
    {
     "data": {
      "text/plain": [
       "[1, 2, 4, 6]"
      ]
     },
     "execution_count": 1,
     "metadata": {},
     "output_type": "execute_result"
    }
   ],
   "source": [
    "a = [2,4,6,1]\n",
    "a.sort()\n",
    "a"
   ]
  },
  {
   "cell_type": "code",
   "execution_count": 6,
   "id": "ec6f6ec9-eba9-4fbf-899d-7509aa514e0e",
   "metadata": {},
   "outputs": [
    {
     "data": {
      "text/plain": [
       "True"
      ]
     },
     "execution_count": 6,
     "metadata": {},
     "output_type": "execute_result"
    }
   ],
   "source": [
    "a = [1,3,7]\n",
    "7 in a"
   ]
  },
  {
   "cell_type": "markdown",
   "id": "10c3c403-ca60-47e4-9e78-66304f600d2a",
   "metadata": {},
   "source": [
    "#### 내 꺼"
   ]
  },
  {
   "cell_type": "code",
   "execution_count": 17,
   "id": "a0949ebf-1d8b-4596-b534-515b188b75d5",
   "metadata": {},
   "outputs": [
    {
     "data": {
      "text/plain": [
       "[[1, 3, 12, 18, 22, 41],\n",
       " [6, 12, 13, 14, 37, 38],\n",
       " [1, 2, 13, 16, 35, 37],\n",
       " [6, 8, 18, 19, 30, 45],\n",
       " [1, 13, 14, 19, 24, 29]]"
      ]
     },
     "execution_count": 17,
     "metadata": {},
     "output_type": "execute_result"
    }
   ],
   "source": [
    "import random\n",
    "\n",
    "lotto_num =[]\n",
    "\n",
    "for i in range(0,5) :\n",
    "    l = []\n",
    "    j = 0\n",
    "    while j < 6 :\n",
    "        n = random.randint(1,45)\n",
    "        if n not in l :\n",
    "            l.append(n)\n",
    "            j += 1\n",
    "    l.sort()\n",
    "    lotto_num.append(l)\n",
    "lotto_num"
   ]
  },
  {
   "cell_type": "markdown",
   "id": "69505f36-258c-4318-a9ee-59ffbade6132",
   "metadata": {},
   "source": [
    "#### 해설1"
   ]
  },
  {
   "cell_type": "code",
   "execution_count": 26,
   "id": "b5fc20f7-0295-4cfe-acd0-961631afb594",
   "metadata": {},
   "outputs": [
    {
     "name": "stdout",
     "output_type": "stream",
     "text": [
      "[6, 14, 27, 29, 34, 35]\n",
      "[3, 9, 12, 34, 36, 38]\n",
      "[6, 15, 17, 21, 39, 40]\n",
      "[3, 6, 12, 36, 40, 45]\n",
      "[2, 8, 11, 17, 20, 27]\n"
     ]
    }
   ],
   "source": [
    "import random\n",
    "\n",
    "\n",
    "for i in range(5) :\n",
    "    lotto =[0,0,0,0,0,0]\n",
    "    for x in range(6) :\n",
    "        num = 0\n",
    "        while (num in lotto) :\n",
    "            num = random.randint(1,45)\n",
    "        lotto[x] = num\n",
    "    lotto.sort()\n",
    "    print(lotto)"
   ]
  },
  {
   "cell_type": "markdown",
   "id": "6dfb113e-9865-4c5f-8dd5-e2770a231b24",
   "metadata": {},
   "source": [
    "#### 해설2"
   ]
  },
  {
   "cell_type": "code",
   "execution_count": 34,
   "id": "eacb6abb-96bb-49f4-a5d3-1c15783bfa67",
   "metadata": {},
   "outputs": [
    {
     "name": "stdout",
     "output_type": "stream",
     "text": [
      "[3, 14, 15, 23, 24, 42]\n",
      "[2, 19, 33, 37, 41, 45]\n",
      "[5, 30, 37, 38, 39, 40]\n",
      "[5, 15, 25, 39, 40, 41]\n",
      "[2, 4, 6, 7, 33, 43]\n",
      "[6, 14, 15, 30, 36, 44]\n"
     ]
    }
   ],
   "source": [
    "import random\n",
    "\n",
    "for i in range(6) :\n",
    "    lotto = random.sample(range(1,46),6)  #1이상 46미만에서 중복없이 랜덤정수값 6개\n",
    "    lotto.sort()\n",
    "    print(lotto)"
   ]
  },
  {
   "cell_type": "code",
   "execution_count": null,
   "id": "ccb8fa32-5b98-49bb-bad4-88fafae151aa",
   "metadata": {},
   "outputs": [],
   "source": [
    "l.append(random.randint(1,45))\n",
    "l"
   ]
  },
  {
   "cell_type": "code",
   "execution_count": 126,
   "id": "f82d40c9-e221-470e-839a-fa3a8f9d4081",
   "metadata": {},
   "outputs": [
    {
     "data": {
      "text/plain": [
       "[8, 45, 43, 4, 24, 14]"
      ]
     },
     "execution_count": 126,
     "metadata": {},
     "output_type": "execute_result"
    }
   ],
   "source": [
    "l = []\n",
    "\n",
    "for j in range(0,6) :\n",
    "    l.append(random.randint(1,45))\n",
    "    \n",
    "l"
   ]
  },
  {
   "cell_type": "code",
   "execution_count": 121,
   "id": "b5675732-b705-4b39-b103-be70a1bbcdcf",
   "metadata": {},
   "outputs": [
    {
     "data": {
      "text/plain": [
       "[10, 3, 27, 35, 26]"
      ]
     },
     "execution_count": 121,
     "metadata": {},
     "output_type": "execute_result"
    }
   ],
   "source": [
    "l = []\n",
    "j = 0\n",
    "    while j < 4 :\n",
    "        l.append(random.randint(1,45))\n",
    "        if l[j] in l :\n",
    "            l[j].remove()\n",
    "            j -= 1\n",
    "        j += 1"
   ]
  },
  {
   "cell_type": "markdown",
   "id": "121c2e9b-a515-4b76-9227-4d8fcdc3d9a7",
   "metadata": {},
   "source": [
    "### quiz 03> 커피메뉴 관리프로그램"
   ]
  },
  {
   "cell_type": "raw",
   "id": "da849e45-f865-4b02-a54c-493f126d58e2",
   "metadata": {},
   "source": [
    "데이터 저장은 딕셔너리 {'메뉴명':가격, 'coffee':2000, ...}\n",
    "프로그램에서 사용할 메뉴\n",
    "\n",
    "  1.메뉴 입력  2.메뉴 수정  3.메뉴 목록  4.메뉴 삭제  5.프로그램 종료\n",
    "  \n",
    "- 메뉴 입력 : 메뉴명과 가격을 입력받아 저장(딕셔너리)\n",
    "- 메뉴 수정 : 메뉴명을 확인하고 있는 메뉴에 가격을 입력받아 수정\n",
    "- 메뉴 목록 : 저장된 메뉴명과 가격을 출력(천단위 구분 기호 표시), **메뉴명 순서대로 출력(ㄱㄴㄷ..)\n",
    "- 메뉴 삭제 : 메뉴명을 확인하고 있는 메뉴에서 삭제\n",
    "- 프로그램 종료 : 종료 메시지 출력 후 종료     tip.종료하기 전에 무한반복 -> while문\n",
    "\n",
    "  + 메뉴 1~5까지만 입력받고 다른 값이 들어오면 관련 에러 메시지 출력)\n",
    "  + 가격은 숫자로 입력해야함"
   ]
  },
  {
   "cell_type": "markdown",
   "id": "8e8dfab0-b60e-4048-a46e-58457e3a7e4f",
   "metadata": {},
   "source": [
    "##### 가나다 정렬법\n",
    "###### sorted"
   ]
  },
  {
   "cell_type": "code",
   "execution_count": 35,
   "id": "6873ec3a-458a-4587-b338-bf6527b27ce0",
   "metadata": {},
   "outputs": [],
   "source": [
    "list1 = [5,2,3,1,4]\n",
    "dict1 = {'아이스아메리카노':3000, '카페라떼':4000, '망고스무디':4500}"
   ]
  },
  {
   "cell_type": "code",
   "execution_count": 36,
   "id": "a9b1d98c-7961-459b-b918-f163fd56509f",
   "metadata": {},
   "outputs": [
    {
     "data": {
      "text/plain": [
       "[1, 2, 3, 4, 5]"
      ]
     },
     "execution_count": 36,
     "metadata": {},
     "output_type": "execute_result"
    }
   ],
   "source": [
    "sorted(list1)  #원본을 수정하지는 않는다."
   ]
  },
  {
   "cell_type": "code",
   "execution_count": 37,
   "id": "eb77973f-609c-4a02-8b94-71ec6df42017",
   "metadata": {},
   "outputs": [
    {
     "data": {
      "text/plain": [
       "[5, 2, 3, 1, 4]"
      ]
     },
     "execution_count": 37,
     "metadata": {},
     "output_type": "execute_result"
    }
   ],
   "source": [
    "list1"
   ]
  },
  {
   "cell_type": "code",
   "execution_count": 39,
   "id": "0efa72df-a18b-414d-9396-ac619bc88303",
   "metadata": {},
   "outputs": [
    {
     "data": {
      "text/plain": [
       "['망고스무디', '아이스아메리카노', '카페라떼']"
      ]
     },
     "execution_count": 39,
     "metadata": {},
     "output_type": "execute_result"
    }
   ],
   "source": [
    "sorted(dict1)  #기본적으로 key를 기준으로 정렬"
   ]
  },
  {
   "cell_type": "code",
   "execution_count": 43,
   "id": "a0776aad-9b89-4ebb-b42d-18504fedfc5a",
   "metadata": {},
   "outputs": [
    {
     "data": {
      "text/plain": [
       "[('아이스아메리카노', 3000), ('카페라떼', 4000), ('망고스무디', 4500)]"
      ]
     },
     "execution_count": 43,
     "metadata": {},
     "output_type": "execute_result"
    }
   ],
   "source": [
    "  #lambda식은 간단한 함수식\n",
    "\n",
    "sorted(dict1.items(), key=lambda data:data[1])  #data = dict.items()\n",
    "                                                #data에서 각 튜플중 1위치의 요소를 기준으로 정렬"
   ]
  },
  {
   "cell_type": "code",
   "execution_count": 47,
   "id": "852ec245-798e-4b9b-85b7-a377695a54bb",
   "metadata": {},
   "outputs": [
    {
     "data": {
      "text/plain": [
       "[('join', 'A', 15), ('jane', 'B', 12), ('dave', 'B', 10)]"
      ]
     },
     "execution_count": 47,
     "metadata": {},
     "output_type": "execute_result"
    }
   ],
   "source": [
    "student_tu = [('join','A',15),\n",
    "              ('jane','B',12),\n",
    "              ('dave','B',10)]\n",
    "student_tu"
   ]
  },
  {
   "cell_type": "code",
   "execution_count": 46,
   "id": "91fa2cd4-43aa-4be1-a6e8-4024a6042bad",
   "metadata": {},
   "outputs": [
    {
     "data": {
      "text/plain": [
       "[('dave', 'B', 10), ('jane', 'B', 12), ('join', 'A', 15)]"
      ]
     },
     "execution_count": 46,
     "metadata": {},
     "output_type": "execute_result"
    }
   ],
   "source": [
    "sorted(student_tu)  #기본 key 정렬"
   ]
  },
  {
   "cell_type": "code",
   "execution_count": 48,
   "id": "22db51f8-037f-4c64-b98a-c8ceb2c3e602",
   "metadata": {},
   "outputs": [
    {
     "data": {
      "text/plain": [
       "[('join', 'A', 15), ('jane', 'B', 12), ('dave', 'B', 10)]"
      ]
     },
     "execution_count": 48,
     "metadata": {},
     "output_type": "execute_result"
    }
   ],
   "source": [
    "sorted(student_tu, key=lambda x:x[2], reverse=True)  #x = student_tu\n",
    "                                                     #student_tu에서 각 튜플중 2위치의 요소를 기준으로 정렬"
   ]
  },
  {
   "cell_type": "code",
   "execution_count": 51,
   "id": "f4fc757c-f2c8-4a2e-b9c2-1bff0b2955fb",
   "metadata": {},
   "outputs": [
    {
     "name": "stdin",
     "output_type": "stream",
     "text": [
      "음료 :  커피\n",
      "가격 :  2500\n"
     ]
    }
   ],
   "source": [
    "cafe = {input(\"음료 : \"):input(\"가격 : \")}"
   ]
  },
  {
   "cell_type": "code",
   "execution_count": 52,
   "id": "73b5f718-7481-49f2-8f92-de5a7178b8f5",
   "metadata": {},
   "outputs": [
    {
     "data": {
      "text/plain": [
       "{'커피': '2500'}"
      ]
     },
     "execution_count": 52,
     "metadata": {},
     "output_type": "execute_result"
    }
   ],
   "source": [
    "cafe"
   ]
  },
  {
   "cell_type": "markdown",
   "id": "6458698c-c56f-429b-8b47-ba770f2b713f",
   "metadata": {},
   "source": [
    "#### 1. 메뉴 입력"
   ]
  },
  {
   "cell_type": "code",
   "execution_count": 85,
   "id": "808cd90d-6a33-4f23-8db6-b5058c907dda",
   "metadata": {},
   "outputs": [
    {
     "name": "stdin",
     "output_type": "stream",
     "text": [
      "가격 =  3000\n",
      "음료명 :  아메리카노\n",
      "가격 =  3500\n",
      "음료명 :  카페라떼\n",
      "가격 =  2700\n",
      "음료명 :  얼그레이\n",
      "가격 =  4500\n",
      "음료명 :  자몽블랙티\n",
      "가격 =  4000\n",
      "음료명 :  제주말차라떼\n"
     ]
    },
    {
     "data": {
      "text/plain": [
       "{'아메리카노': 3000, '카페라떼': 3500, '얼그레이': 2700, '자몽블랙티': 4500, '제주말차라떼': 4000}"
      ]
     },
     "execution_count": 85,
     "metadata": {},
     "output_type": "execute_result"
    }
   ],
   "source": [
    "cafe = {}\n",
    "for i in range(5) :\n",
    "    cafe[input(\"음료명 : \")] = int(input(\"가격 = \"))\n",
    "cafe"
   ]
  },
  {
   "cell_type": "markdown",
   "id": "b0d66ad9-fd5d-45fc-b220-fe5b6539f907",
   "metadata": {},
   "source": [
    "#### 2. 메뉴 수정"
   ]
  },
  {
   "cell_type": "code",
   "execution_count": 87,
   "id": "12fab9a4-1354-4ee3-adfa-4b077e7ffd2a",
   "metadata": {},
   "outputs": [
    {
     "name": "stdin",
     "output_type": "stream",
     "text": [
      "메뉴명 :  아메리카노\n",
      "수정된 가격 :  3200\n"
     ]
    },
    {
     "data": {
      "text/plain": [
       "{'아메리카노': 3200, '카페라떼': 3500, '얼그레이': 2700, '자몽블랙티': 4500, '제주말차라떼': 4000}"
      ]
     },
     "execution_count": 87,
     "metadata": {},
     "output_type": "execute_result"
    }
   ],
   "source": [
    "m = input(\"메뉴명 : \")\n",
    "if m in cafe.keys() :\n",
    "    cafe[m] = int(input(\"수정된 가격 : \"))\n",
    "else :\n",
    "    print(\"존재하는 메뉴를 입력해주세요.\")\n",
    "    \n",
    "cafe"
   ]
  },
  {
   "cell_type": "markdown",
   "id": "d62daffc-2e64-46f0-8b92-e9ae7cf746e5",
   "metadata": {},
   "source": [
    "#### 3. 메뉴 목록"
   ]
  },
  {
   "cell_type": "code",
   "execution_count": 80,
   "id": "3fc2056c-90c1-4ec0-afa5-52cc954d173c",
   "metadata": {},
   "outputs": [
    {
     "ename": "RuntimeError",
     "evalue": "dictionary changed size during iteration",
     "output_type": "error",
     "traceback": [
      "\u001b[1;31m---------------------------------------------------------------------------\u001b[0m",
      "\u001b[1;31mRuntimeError\u001b[0m                              Traceback (most recent call last)",
      "\u001b[1;32m~\\AppData\\Local\\Temp/ipykernel_2880/2833252324.py\u001b[0m in \u001b[0;36m<module>\u001b[1;34m\u001b[0m\n\u001b[0;32m      1\u001b[0m \u001b[0msorted\u001b[0m\u001b[1;33m(\u001b[0m\u001b[0mcafe\u001b[0m\u001b[1;33m.\u001b[0m\u001b[0mitems\u001b[0m\u001b[1;33m(\u001b[0m\u001b[1;33m)\u001b[0m\u001b[1;33m)\u001b[0m\u001b[1;33m\u001b[0m\u001b[1;33m\u001b[0m\u001b[0m\n\u001b[0;32m      2\u001b[0m \u001b[1;33m\u001b[0m\u001b[0m\n\u001b[1;32m----> 3\u001b[1;33m \u001b[1;32mfor\u001b[0m \u001b[0mk\u001b[0m\u001b[1;33m,\u001b[0m \u001b[0mv\u001b[0m \u001b[1;32min\u001b[0m \u001b[0mcafe\u001b[0m\u001b[1;33m.\u001b[0m\u001b[0mitems\u001b[0m\u001b[1;33m(\u001b[0m\u001b[1;33m)\u001b[0m \u001b[1;33m:\u001b[0m\u001b[1;33m\u001b[0m\u001b[1;33m\u001b[0m\u001b[0m\n\u001b[0m\u001b[0;32m      4\u001b[0m     \u001b[0mcafe\u001b[0m\u001b[1;33m[\u001b[0m\u001b[1;36m1\u001b[0m\u001b[1;33m]\u001b[0m \u001b[1;33m=\u001b[0m \u001b[1;34m\"{:,}\"\u001b[0m\u001b[1;33m.\u001b[0m\u001b[0mformat\u001b[0m\u001b[1;33m(\u001b[0m\u001b[0mint\u001b[0m\u001b[1;33m(\u001b[0m\u001b[0mv\u001b[0m\u001b[1;33m)\u001b[0m\u001b[1;33m)\u001b[0m\u001b[1;33m\u001b[0m\u001b[1;33m\u001b[0m\u001b[0m\n",
      "\u001b[1;31mRuntimeError\u001b[0m: dictionary changed size during iteration"
     ]
    }
   ],
   "source": [
    "sorted(cafe.items())\n",
    "\n",
    "for i in range(5) :\n",
    "    cafe[1]"
   ]
  },
  {
   "cell_type": "code",
   "execution_count": 76,
   "id": "32210153-a32e-4209-a7dc-2bfeb868a6b9",
   "metadata": {},
   "outputs": [
    {
     "data": {
      "text/plain": [
       "[('얼그레이', 2500),\n",
       " ('아메리카노', 2800),\n",
       " ('카페라떼', 3300),\n",
       " ('제주말차라떼', 4000),\n",
       " ('자몽블랙티', 4500)]"
      ]
     },
     "execution_count": 76,
     "metadata": {},
     "output_type": "execute_result"
    }
   ],
   "source": [
    "sorted(cafe.items(), key=lambda x:x[1])"
   ]
  },
  {
   "cell_type": "code",
   "execution_count": 98,
   "id": "0891e6b8-ca8b-4dc4-86fd-7732702ba3a8",
   "metadata": {},
   "outputs": [
    {
     "data": {
      "text/plain": [
       "dict_keys(['아메리카노', '카페라떼', '얼그레이', '자몽블랙티', '제주말차라떼'])"
      ]
     },
     "execution_count": 98,
     "metadata": {},
     "output_type": "execute_result"
    }
   ],
   "source": [
    "cafe.keys()"
   ]
  },
  {
   "cell_type": "markdown",
   "id": "0203f159-5542-46f1-9312-8f6436fa566c",
   "metadata": {},
   "source": [
    "#### 4. 메뉴 삭제"
   ]
  },
  {
   "cell_type": "code",
   "execution_count": 100,
   "id": "a9ecce41-ea09-4987-b903-bb2daabe928b",
   "metadata": {},
   "outputs": [
    {
     "name": "stdin",
     "output_type": "stream",
     "text": [
      "삭제할 음료명 : 아메리카노\n"
     ]
    },
    {
     "data": {
      "text/plain": [
       "{'카페라떼': 3500, '얼그레이': 2700, '자몽블랙티': 4500, '제주말차라떼': 4000}"
      ]
     },
     "execution_count": 100,
     "metadata": {},
     "output_type": "execute_result"
    }
   ],
   "source": [
    "del cafe[input(\"삭제할 음료명 :\")]\n",
    "cafe"
   ]
  },
  {
   "cell_type": "code",
   "execution_count": 101,
   "id": "fe6a58f2-0fec-41f9-9a9f-e26dd2882a5a",
   "metadata": {},
   "outputs": [
    {
     "name": "stdin",
     "output_type": "stream",
     "text": [
      "가격 =  3200\n",
      "음료명 :  아메리카노\n"
     ]
    },
    {
     "data": {
      "text/plain": [
       "{'카페라떼': 3500, '얼그레이': 2700, '자몽블랙티': 4500, '제주말차라떼': 4000, '아메리카노': 3200}"
      ]
     },
     "execution_count": 101,
     "metadata": {},
     "output_type": "execute_result"
    }
   ],
   "source": [
    "cafe[input(\"음료명 : \")] = int(input(\"가격 = \"))\n",
    "cafe"
   ]
  },
  {
   "cell_type": "markdown",
   "id": "904e53d8-8831-4ef0-8c75-be9acd77785f",
   "metadata": {},
   "source": [
    "#### 5. 프로그램 종료"
   ]
  },
  {
   "cell_type": "code",
   "execution_count": null,
   "id": "98dceaf3-4841-4b40-a9c8-65741c1a834d",
   "metadata": {},
   "outputs": [],
   "source": [
    "while True :\n",
    "    # 1. 메뉴 입력\n",
    "    cafe = {}\n",
    "    for i in range(5) :\n",
    "        cafe[input(\"음료명 : \")] = int(input(\"가격 = \"))\n",
    "    \n",
    "    # 2. 메뉴 수정\n",
    "    m = input(\"메뉴명 : \")\n",
    "    if m in cafe.keys() :\n",
    "        cafe[m] = int(input(\"수정된 가격 : \"))\n",
    "    else :\n",
    "        print(\"존재하는 메뉴를 입력해주세요.\")\n",
    "        \n",
    "    # 3. 메뉴 목록\n",
    "    \n",
    "    # 4. 메뉴 삭제\n",
    "    del cafe[input(\"삭제할 음료명 :\")]\n",
    "    \n",
    "    # 5. 프로그램 종료\n",
    "    if input(\"종료하시겠습니까? Y/N : \") = Y :\n",
    "        break"
   ]
  }
 ],
 "metadata": {
  "kernelspec": {
   "display_name": "Python 3 (ipykernel)",
   "language": "python",
   "name": "python3"
  },
  "language_info": {
   "codemirror_mode": {
    "name": "ipython",
    "version": 3
   },
   "file_extension": ".py",
   "mimetype": "text/x-python",
   "name": "python",
   "nbconvert_exporter": "python",
   "pygments_lexer": "ipython3",
   "version": "3.9.7"
  }
 },
 "nbformat": 4,
 "nbformat_minor": 5
}
