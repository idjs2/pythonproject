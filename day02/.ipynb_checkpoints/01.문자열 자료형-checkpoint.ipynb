{
 "cells": [
  {
   "cell_type": "markdown",
   "id": "695cf746-9b0f-452f-a46a-cb8647526460",
   "metadata": {},
   "source": [
    "#### 결합과 분리\n",
    "###### split, join"
   ]
  },
  {
   "cell_type": "code",
   "execution_count": 1,
   "id": "2710654d-d117-49e0-940c-39cf6dc7dd3a",
   "metadata": {},
   "outputs": [
    {
     "data": {
      "text/plain": [
       "'hello,hi,hi'"
      ]
     },
     "execution_count": 1,
     "metadata": {},
     "output_type": "execute_result"
    }
   ],
   "source": [
    "a = 'hello,hi,hi'\n",
    "a"
   ]
  },
  {
   "cell_type": "code",
   "execution_count": 2,
   "id": "10657432-4048-47ff-b4cc-272a8e7aea10",
   "metadata": {},
   "outputs": [
    {
     "data": {
      "text/plain": [
       "str"
      ]
     },
     "execution_count": 2,
     "metadata": {},
     "output_type": "execute_result"
    }
   ],
   "source": [
    "type(a)"
   ]
  },
  {
   "cell_type": "markdown",
   "id": "2bbe5b67-1ccb-4b73-9a79-05ab1a9ff2b3",
   "metadata": {
    "tags": []
   },
   "source": [
    "###### 속성 -> 값\n",
    "###### 매서드 -> 처리"
   ]
  },
  {
   "cell_type": "code",
   "execution_count": 23,
   "id": "22151c0d-0b9b-4027-af3c-1176ad13a831",
   "metadata": {},
   "outputs": [
    {
     "data": {
      "text/plain": [
       "['hello', 'hi', 'hi']"
      ]
     },
     "execution_count": 23,
     "metadata": {},
     "output_type": "execute_result"
    }
   ],
   "source": [
    "b = a.split(sep=',')  #분리 (','를 기준으로)\n",
    "b"
   ]
  },
  {
   "cell_type": "code",
   "execution_count": 25,
   "id": "cbab8013-aa6c-43af-a7f6-7076ff107ecc",
   "metadata": {},
   "outputs": [
    {
     "data": {
      "text/plain": [
       "'hello, hi, hi'"
      ]
     },
     "execution_count": 25,
     "metadata": {},
     "output_type": "execute_result"
    }
   ],
   "source": [
    "', '.join(b)  #문자열 결합 (','첨가)"
   ]
  },
  {
   "cell_type": "markdown",
   "id": "be78c1a6-9dc6-4537-847f-87f8caae2775",
   "metadata": {},
   "source": [
    "#### 문자 변경\n",
    "###### upper, lower, capitalize"
   ]
  },
  {
   "cell_type": "code",
   "execution_count": 13,
   "id": "dfe0235e-3f7e-4592-9602-c1342bf4729a",
   "metadata": {},
   "outputs": [
    {
     "name": "stdout",
     "output_type": "stream",
     "text": [
      "안녕은 영어로  HELLO,HI,HI hello,hi,hi Hello,hi,hi\n"
     ]
    }
   ],
   "source": [
    "a1 = a.upper()  #대문자화\n",
    "a2 = a1.lower()  #소문자화\n",
    "a3 = a.capitalize()  #첫 글자 대문자화\n",
    "\n",
    "print(\"안녕은 영어로 \", a1, a2, a3)"
   ]
  },
  {
   "cell_type": "markdown",
   "id": "65f5288d-83a2-40d2-925b-430924a71c1f",
   "metadata": {},
   "source": [
    "#### 공백지우기\n",
    "###### lstrip, rstrip, strip"
   ]
  },
  {
   "cell_type": "code",
   "execution_count": 21,
   "id": "6699829f-9c94-446f-81f5-07b541a2a30d",
   "metadata": {},
   "outputs": [],
   "source": [
    "c = '    hi    '"
   ]
  },
  {
   "cell_type": "code",
   "execution_count": 24,
   "id": "895961b0-6df4-4179-aebd-c471cd4a717e",
   "metadata": {},
   "outputs": [
    {
     "data": {
      "text/plain": [
       "['hi    ', '    hi', 'hi']"
      ]
     },
     "execution_count": 24,
     "metadata": {},
     "output_type": "execute_result"
    }
   ],
   "source": [
    "c1 = c.lstrip()  #왼쪽 공백 지우기\n",
    "c2 = c.rstrip()  #오른쪽 공백 지우기\n",
    "c3 = c.strip()  #양쪽 공백 지우기\n",
    "\n",
    "c_list = [c1, c2, c3]\n",
    "c_list"
   ]
  },
  {
   "cell_type": "code",
   "execution_count": 30,
   "id": "a8662dd4-274a-40a9-9a1b-0e1d2162111f",
   "metadata": {},
   "outputs": [
    {
     "data": {
      "text/plain": [
       "'Life is too short'"
      ]
     },
     "execution_count": 30,
     "metadata": {},
     "output_type": "execute_result"
    }
   ],
   "source": [
    "d = \"Life is too short\"\n",
    "d"
   ]
  },
  {
   "cell_type": "code",
   "execution_count": 29,
   "id": "73475c37-d498-4a71-96c3-b0532c3c5b8d",
   "metadata": {},
   "outputs": [
    {
     "data": {
      "text/plain": [
       "'Life is  short'"
      ]
     },
     "execution_count": 29,
     "metadata": {},
     "output_type": "execute_result"
    }
   ],
   "source": [
    "d.replace(\"too\",\"\")  #문자열 대체 \"too\"를 \"\"로 대체"
   ]
  },
  {
   "cell_type": "markdown",
   "id": "aac03933-e936-4932-b202-6bc3a5adfb7f",
   "metadata": {
    "jp-MarkdownHeadingCollapsed": true,
    "tags": []
   },
   "source": [
    "### 자료형\n",
    "- 숫자형\n",
    "- 문자열\n",
    " \n",
    " \n",
    "###### 순서O\n",
    "- 리스트 [ ]\n",
    "- 튜플 ( ) : 요소 수정 불가\n",
    "\n",
    "\n",
    "\n",
    "###### 순서X : 인덱싱, 슬라이싱 불가\n",
    "- 딕셔너리 { } : Key와 Value\n",
    "- 집합 : key"
   ]
  },
  {
   "cell_type": "markdown",
   "id": "a87c099b-15ef-4074-9a36-7df2c062c269",
   "metadata": {},
   "source": [
    "## 리스트"
   ]
  },
  {
   "cell_type": "code",
   "execution_count": 32,
   "id": "d80b03ff-da7a-4d23-9e79-c791ee825fa6",
   "metadata": {},
   "outputs": [
    {
     "data": {
      "text/plain": [
       "[]"
      ]
     },
     "execution_count": 32,
     "metadata": {},
     "output_type": "execute_result"
    }
   ],
   "source": [
    "li = list()  #빈 리스트 만들기\n",
    "li"
   ]
  },
  {
   "cell_type": "code",
   "execution_count": 34,
   "id": "0a679cd2-da85-4cb5-a015-40c232f17409",
   "metadata": {},
   "outputs": [
    {
     "data": {
      "text/plain": [
       "list"
      ]
     },
     "execution_count": 34,
     "metadata": {},
     "output_type": "execute_result"
    }
   ],
   "source": [
    "e = [1, 2, ['Life', 'is']]\n",
    "type(e)"
   ]
  },
  {
   "cell_type": "markdown",
   "id": "8323b9f6-f12f-4cb6-acc7-c6e890197ded",
   "metadata": {
    "tags": []
   },
   "source": [
    "#### 인덱싱"
   ]
  },
  {
   "cell_type": "code",
   "execution_count": 42,
   "id": "f2a1c472-cfa5-4234-ac53-34e3e2d7dfc8",
   "metadata": {},
   "outputs": [
    {
     "data": {
      "text/plain": [
       "['Life', 'is']"
      ]
     },
     "execution_count": 42,
     "metadata": {},
     "output_type": "execute_result"
    }
   ],
   "source": [
    "e[2]  #2번째 요소 추출"
   ]
  },
  {
   "cell_type": "code",
   "execution_count": 43,
   "id": "4dd33ca8-f664-4339-85ce-b56b660c9a93",
   "metadata": {},
   "outputs": [
    {
     "data": {
      "text/plain": [
       "'is'"
      ]
     },
     "execution_count": 43,
     "metadata": {},
     "output_type": "execute_result"
    }
   ],
   "source": [
    "e[2][1]  #2번째 요소 1번째 요소 추출"
   ]
  },
  {
   "cell_type": "code",
   "execution_count": 44,
   "id": "127acf26-fc77-4d46-ba9f-907de477a1a5",
   "metadata": {},
   "outputs": [
    {
     "data": {
      "text/plain": [
       "'Life'"
      ]
     },
     "execution_count": 44,
     "metadata": {},
     "output_type": "execute_result"
    }
   ],
   "source": [
    "e[-1][-2]"
   ]
  },
  {
   "cell_type": "markdown",
   "id": "e35cf73c-7c32-429d-8725-8b9e6597e982",
   "metadata": {},
   "source": [
    "#### 슬라이싱"
   ]
  },
  {
   "cell_type": "code",
   "execution_count": 47,
   "id": "2e3bad19-9368-4336-a501-361c9b5e5041",
   "metadata": {},
   "outputs": [
    {
     "data": {
      "text/plain": [
       "[1, 2]"
      ]
     },
     "execution_count": 47,
     "metadata": {},
     "output_type": "execute_result"
    }
   ],
   "source": [
    "e[:2]  #위치번호 0이상 2미만"
   ]
  },
  {
   "cell_type": "code",
   "execution_count": 48,
   "id": "ec0cfaaa-cc64-4ef8-b594-333a4d4e072d",
   "metadata": {},
   "outputs": [
    {
     "data": {
      "text/plain": [
       "[2, ['Life', 'is']]"
      ]
     },
     "execution_count": 48,
     "metadata": {},
     "output_type": "execute_result"
    }
   ],
   "source": [
    "e[1:3]"
   ]
  },
  {
   "cell_type": "code",
   "execution_count": 50,
   "id": "ce62daf5-4e78-4680-99e5-1878a484e22c",
   "metadata": {},
   "outputs": [
    {
     "data": {
      "text/plain": [
       "['Life']"
      ]
     },
     "execution_count": 50,
     "metadata": {},
     "output_type": "execute_result"
    }
   ],
   "source": [
    "e[2][:1]"
   ]
  },
  {
   "cell_type": "markdown",
   "id": "f858834f-75e2-4d9d-bca1-cc9be561ef44",
   "metadata": {},
   "source": [
    "#### 리스트 연산\n",
    "###### len"
   ]
  },
  {
   "cell_type": "code",
   "execution_count": 51,
   "id": "79808b65-d16a-4f0f-bc63-c0ff0ca0efb1",
   "metadata": {},
   "outputs": [
    {
     "data": {
      "text/plain": [
       "[1, 2, 3, 4, 5, 6]"
      ]
     },
     "execution_count": 51,
     "metadata": {},
     "output_type": "execute_result"
    }
   ],
   "source": [
    "x = [1,2,3]\n",
    "y = [4,5,6]\n",
    "\n",
    "x+y"
   ]
  },
  {
   "cell_type": "code",
   "execution_count": 58,
   "id": "062bdd02-61f9-4182-9a7f-84604459cb6c",
   "metadata": {},
   "outputs": [
    {
     "data": {
      "text/plain": [
       "[1, 2, 3, 1, 2, 3, 1, 2, 3]"
      ]
     },
     "execution_count": 58,
     "metadata": {},
     "output_type": "execute_result"
    }
   ],
   "source": [
    "x3 = x*3\n",
    "x3"
   ]
  },
  {
   "cell_type": "code",
   "execution_count": 80,
   "id": "42975d9d-ec1e-455f-bc89-04e44b23cb0a",
   "metadata": {},
   "outputs": [
    {
     "data": {
      "text/plain": [
       "9"
      ]
     },
     "execution_count": 80,
     "metadata": {},
     "output_type": "execute_result"
    }
   ],
   "source": [
    "len(x3)  #요소의 개수"
   ]
  },
  {
   "cell_type": "code",
   "execution_count": 65,
   "id": "0cfac7b0-bbc4-446c-a5ab-da499ecd88b9",
   "metadata": {},
   "outputs": [
    {
     "name": "stdout",
     "output_type": "stream",
     "text": [
      "[1, 2, 3, [2, 3, 4], 1, 2, 3, [2, 3, 4], 1, 2, 3, [2, 3, 4]] / 4\n"
     ]
    }
   ],
   "source": [
    "x_t = [1,2,3,[2,3,4]]\n",
    "print(x_t*3, \"/\", len(x_t))"
   ]
  },
  {
   "cell_type": "markdown",
   "id": "e8a77411-d64e-4b58-8a7f-4f990b86799b",
   "metadata": {},
   "source": [
    "#### 리스트 수정과 삭제"
   ]
  },
  {
   "cell_type": "code",
   "execution_count": 73,
   "id": "96d4bb05-9ef5-4a39-a5fd-a86502c9cbe5",
   "metadata": {},
   "outputs": [
    {
     "data": {
      "text/plain": [
       "[1, 2, 4]"
      ]
     },
     "execution_count": 73,
     "metadata": {},
     "output_type": "execute_result"
    }
   ],
   "source": [
    "f = [1,2,3]\n",
    "f[2] = 4  #2위치의 요소를 4로 수정\n",
    "f"
   ]
  },
  {
   "cell_type": "code",
   "execution_count": 74,
   "id": "366b5da9-92db-42ba-9843-166371fdb823",
   "metadata": {},
   "outputs": [
    {
     "data": {
      "text/plain": [
       "[2, 4]"
      ]
     },
     "execution_count": 74,
     "metadata": {},
     "output_type": "execute_result"
    }
   ],
   "source": [
    "del f[0]  #0위치의 요소를 삭제\n",
    "f"
   ]
  },
  {
   "cell_type": "markdown",
   "id": "458af3d8-00ff-4d34-bf82-46b3ae441834",
   "metadata": {},
   "source": [
    "#### 리스트 관련 함수\n",
    "###### append, extend, sort, reverse, index, remove, pop, count"
   ]
  },
  {
   "cell_type": "code",
   "execution_count": 91,
   "id": "e684e149-ab80-4b2f-b96e-7370f7d3d8b4",
   "metadata": {},
   "outputs": [
    {
     "data": {
      "text/plain": [
       "[1, 2, 3, 4]"
      ]
     },
     "execution_count": 91,
     "metadata": {},
     "output_type": "execute_result"
    }
   ],
   "source": [
    "g = [1,2,3]\n",
    "g.append(4)  #요소 추가\n",
    "g"
   ]
  },
  {
   "cell_type": "code",
   "execution_count": 92,
   "id": "088acb43-6fc5-4049-8053-2f475c527a03",
   "metadata": {},
   "outputs": [
    {
     "data": {
      "text/plain": [
       "[1, 2, 3, 4, [5, 6]]"
      ]
     },
     "execution_count": 92,
     "metadata": {},
     "output_type": "execute_result"
    }
   ],
   "source": [
    "g.append([5,6])\n",
    "g"
   ]
  },
  {
   "cell_type": "code",
   "execution_count": 93,
   "id": "40fda1b6-d8f0-4647-b170-aa5d8f88f853",
   "metadata": {},
   "outputs": [
    {
     "data": {
      "text/plain": [
       "[1, 2, 3, 4, [5, 6], 5, 6]"
      ]
     },
     "execution_count": 93,
     "metadata": {},
     "output_type": "execute_result"
    }
   ],
   "source": [
    "g.extend([5,6])  #리스트 결합\n",
    "g"
   ]
  },
  {
   "cell_type": "code",
   "execution_count": 94,
   "id": "af80edf3-9ab3-4740-804a-928a8446d2bf",
   "metadata": {
    "collapsed": true,
    "jupyter": {
     "outputs_hidden": true
    },
    "tags": []
   },
   "outputs": [
    {
     "ename": "TypeError",
     "evalue": "'<' not supported between instances of 'list' and 'int'",
     "output_type": "error",
     "traceback": [
      "\u001b[1;31m---------------------------------------------------------------------------\u001b[0m",
      "\u001b[1;31mTypeError\u001b[0m                                 Traceback (most recent call last)",
      "\u001b[1;32m~\\AppData\\Local\\Temp/ipykernel_3564/3367511462.py\u001b[0m in \u001b[0;36m<module>\u001b[1;34m\u001b[0m\n\u001b[1;32m----> 1\u001b[1;33m \u001b[0mg\u001b[0m\u001b[1;33m.\u001b[0m\u001b[0msort\u001b[0m\u001b[1;33m(\u001b[0m\u001b[1;33m)\u001b[0m  \u001b[1;31m#<-오류 (리스트요소가 섞여 있기 때문에)\u001b[0m\u001b[1;33m\u001b[0m\u001b[1;33m\u001b[0m\u001b[0m\n\u001b[0m",
      "\u001b[1;31mTypeError\u001b[0m: '<' not supported between instances of 'list' and 'int'"
     ]
    }
   ],
   "source": [
    "g.sort()  #오류 (리스트요소가 섞여 있기 때문에)"
   ]
  },
  {
   "cell_type": "code",
   "execution_count": 98,
   "id": "ad3dd892-5442-49e8-a442-6ef431bcdfa9",
   "metadata": {},
   "outputs": [
    {
     "data": {
      "text/plain": [
       "[1, 2, 4, 6, 7, 9]"
      ]
     },
     "execution_count": 98,
     "metadata": {},
     "output_type": "execute_result"
    }
   ],
   "source": [
    "h = [4,6,9,2,1,7]\n",
    "h.sort()  #오름차순 정렬\n",
    "h"
   ]
  },
  {
   "cell_type": "code",
   "execution_count": 99,
   "id": "e5aaf8a3-37ec-4418-9a23-e6be50ae1c2f",
   "metadata": {},
   "outputs": [
    {
     "data": {
      "text/plain": [
       "[9, 7, 6, 4, 2, 1]"
      ]
     },
     "execution_count": 99,
     "metadata": {},
     "output_type": "execute_result"
    }
   ],
   "source": [
    "h.sort(reverse=True)  #역순 정렬\n",
    "h"
   ]
  },
  {
   "cell_type": "code",
   "execution_count": 103,
   "id": "c93377ac-0e5f-4882-bd4d-a500d9f50e9e",
   "metadata": {},
   "outputs": [
    {
     "data": {
      "text/plain": [
       "[6, 7, 9, 2]"
      ]
     },
     "execution_count": 103,
     "metadata": {},
     "output_type": "execute_result"
    }
   ],
   "source": [
    "i = [2,9,7,6]\n",
    "i.reverse()  #뒤집기\n",
    "i"
   ]
  },
  {
   "cell_type": "code",
   "execution_count": 105,
   "id": "4d5f731b-358b-46b0-af02-260124964b4f",
   "metadata": {},
   "outputs": [
    {
     "data": {
      "text/plain": [
       "0"
      ]
     },
     "execution_count": 105,
     "metadata": {},
     "output_type": "execute_result"
    }
   ],
   "source": [
    "i.index(6)  #요소의 위치번호"
   ]
  },
  {
   "cell_type": "code",
   "execution_count": 106,
   "id": "60dc2138-d164-4f13-8f82-77340b18a1de",
   "metadata": {},
   "outputs": [
    {
     "ename": "ValueError",
     "evalue": "10 is not in list",
     "output_type": "error",
     "traceback": [
      "\u001b[1;31m---------------------------------------------------------------------------\u001b[0m",
      "\u001b[1;31mValueError\u001b[0m                                Traceback (most recent call last)",
      "\u001b[1;32m~\\AppData\\Local\\Temp/ipykernel_3564/3909135680.py\u001b[0m in \u001b[0;36m<module>\u001b[1;34m\u001b[0m\n\u001b[1;32m----> 1\u001b[1;33m \u001b[0mi\u001b[0m\u001b[1;33m.\u001b[0m\u001b[0mindex\u001b[0m\u001b[1;33m(\u001b[0m\u001b[1;36m10\u001b[0m\u001b[1;33m)\u001b[0m\u001b[1;33m\u001b[0m\u001b[1;33m\u001b[0m\u001b[0m\n\u001b[0m",
      "\u001b[1;31mValueError\u001b[0m: 10 is not in list"
     ]
    }
   ],
   "source": [
    "i.index(10)  #오류 (리스트에 존재하지 않는 요소를 입력했기 때문에)"
   ]
  },
  {
   "cell_type": "code",
   "execution_count": 107,
   "id": "1c44556d-4ceb-4b3c-88fe-9dbdfbd5db10",
   "metadata": {},
   "outputs": [
    {
     "data": {
      "text/plain": [
       "[6, 5, 7, 9, 2]"
      ]
     },
     "execution_count": 107,
     "metadata": {},
     "output_type": "execute_result"
    }
   ],
   "source": [
    "i.insert(1, 5)  #1위치에 요소 5를 삽입\n",
    "i"
   ]
  },
  {
   "cell_type": "code",
   "execution_count": 109,
   "id": "c199643a-84d0-48ed-b756-7672ad3bda8a",
   "metadata": {},
   "outputs": [
    {
     "data": {
      "text/plain": [
       "[5, 7, 9, 2]"
      ]
     },
     "execution_count": 109,
     "metadata": {},
     "output_type": "execute_result"
    }
   ],
   "source": [
    "i.remove(6) #요소6 삭제\n",
    "i"
   ]
  },
  {
   "cell_type": "code",
   "execution_count": 108,
   "id": "5a070364-1aa8-4a26-b2c2-e4446872745e",
   "metadata": {},
   "outputs": [
    {
     "ename": "ValueError",
     "evalue": "list.remove(x): x not in list",
     "output_type": "error",
     "traceback": [
      "\u001b[1;31m---------------------------------------------------------------------------\u001b[0m",
      "\u001b[1;31mValueError\u001b[0m                                Traceback (most recent call last)",
      "\u001b[1;32m~\\AppData\\Local\\Temp/ipykernel_3564/1706329480.py\u001b[0m in \u001b[0;36m<module>\u001b[1;34m\u001b[0m\n\u001b[1;32m----> 1\u001b[1;33m \u001b[0mi\u001b[0m\u001b[1;33m.\u001b[0m\u001b[0mremove\u001b[0m\u001b[1;33m(\u001b[0m\u001b[1;36m3\u001b[0m\u001b[1;33m)\u001b[0m  \u001b[1;31m#오류\u001b[0m\u001b[1;33m\u001b[0m\u001b[1;33m\u001b[0m\u001b[0m\n\u001b[0m",
      "\u001b[1;31mValueError\u001b[0m: list.remove(x): x not in list"
     ]
    }
   ],
   "source": [
    "i.remove(3)  #오류 (리스트에 존재하지 않는 요소를 입력했기 때문에)"
   ]
  },
  {
   "cell_type": "code",
   "execution_count": 110,
   "id": "8d54e30d-4f42-4dc7-b5fa-2f7c8d627511",
   "metadata": {},
   "outputs": [
    {
     "data": {
      "text/plain": [
       "9"
      ]
     },
     "execution_count": 110,
     "metadata": {},
     "output_type": "execute_result"
    }
   ],
   "source": [
    "i.pop(2)  #2위치의 요소를 삭제 후 삭제된 요소 보여줌"
   ]
  },
  {
   "cell_type": "code",
   "execution_count": 118,
   "id": "4a4ad44b-dc98-4326-ab80-f1738aa215f2",
   "metadata": {},
   "outputs": [
    {
     "data": {
      "text/plain": [
       "[1]"
      ]
     },
     "execution_count": 118,
     "metadata": {},
     "output_type": "execute_result"
    }
   ],
   "source": [
    "j = [1, 3]\n",
    "j.pop()\n",
    "j"
   ]
  },
  {
   "cell_type": "code",
   "execution_count": 119,
   "id": "2c00f0b4-5b4e-4c77-b94c-5b0d644043e0",
   "metadata": {},
   "outputs": [
    {
     "data": {
      "text/plain": [
       "2"
      ]
     },
     "execution_count": 119,
     "metadata": {},
     "output_type": "execute_result"
    }
   ],
   "source": [
    "k = [1, 2, 3, 1]\n",
    "k.count(1)  #요소 1이 몇개인지"
   ]
  },
  {
   "cell_type": "markdown",
   "id": "03ceb955-6930-49d1-9f7c-8c1882b5f4dd",
   "metadata": {},
   "source": [
    "## 튜플"
   ]
  },
  {
   "cell_type": "code",
   "execution_count": 139,
   "id": "6609faab-2a1a-4e7e-8ad5-739faafc9127",
   "metadata": {},
   "outputs": [
    {
     "data": {
      "text/plain": [
       "(1, 2, 3)"
      ]
     },
     "execution_count": 139,
     "metadata": {},
     "output_type": "execute_result"
    }
   ],
   "source": [
    "t1 = ()\n",
    "t2 = (1,)\n",
    "t3 = (1, 2, 3)\n",
    "t4 = 1, 2, 3\n",
    "t5 = ('a', 'b', ('ab', 'cd'))\n",
    "t4"
   ]
  },
  {
   "cell_type": "code",
   "execution_count": 134,
   "id": "2076a4da-402f-45ff-9122-884145c8655b",
   "metadata": {},
   "outputs": [
    {
     "ename": "TypeError",
     "evalue": "'tuple' object doesn't support item deletion",
     "output_type": "error",
     "traceback": [
      "\u001b[1;31m---------------------------------------------------------------------------\u001b[0m",
      "\u001b[1;31mTypeError\u001b[0m                                 Traceback (most recent call last)",
      "\u001b[1;32m~\\AppData\\Local\\Temp/ipykernel_3564/3506128541.py\u001b[0m in \u001b[0;36m<module>\u001b[1;34m\u001b[0m\n\u001b[1;32m----> 1\u001b[1;33m \u001b[1;32mdel\u001b[0m \u001b[0mt1\u001b[0m\u001b[1;33m[\u001b[0m\u001b[1;36m0\u001b[0m\u001b[1;33m]\u001b[0m  \u001b[1;31m#튜플내의 요소 수정 불가\u001b[0m\u001b[1;33m\u001b[0m\u001b[1;33m\u001b[0m\u001b[0m\n\u001b[0m",
      "\u001b[1;31mTypeError\u001b[0m: 'tuple' object doesn't support item deletion"
     ]
    }
   ],
   "source": [
    "del t1[0]  #튜플내의 요소 수정 불가"
   ]
  },
  {
   "cell_type": "code",
   "execution_count": 131,
   "id": "7650dc9e-6ec1-4a34-bc49-d9238daa7be5",
   "metadata": {},
   "outputs": [],
   "source": [
    "del t1  #튜플 자체 삭제는 가능"
   ]
  },
  {
   "cell_type": "code",
   "execution_count": 136,
   "id": "7e5ea50b-d1ab-4799-88da-8390f25a1d8f",
   "metadata": {},
   "outputs": [],
   "source": [
    "t1 = ()"
   ]
  },
  {
   "cell_type": "code",
   "execution_count": 140,
   "id": "7c087607-a71a-45cf-8178-e049b6f7293a",
   "metadata": {},
   "outputs": [
    {
     "data": {
      "text/plain": [
       "(1, 1, 2, 3)"
      ]
     },
     "execution_count": 140,
     "metadata": {},
     "output_type": "execute_result"
    }
   ],
   "source": [
    "t2+t3"
   ]
  },
  {
   "cell_type": "code",
   "execution_count": 142,
   "id": "0bf7a8e1-f276-4079-b976-a279ea7ed4e0",
   "metadata": {},
   "outputs": [
    {
     "data": {
      "text/plain": [
       "(1, 1)"
      ]
     },
     "execution_count": 142,
     "metadata": {},
     "output_type": "execute_result"
    }
   ],
   "source": [
    "t2*2"
   ]
  },
  {
   "cell_type": "code",
   "execution_count": 144,
   "id": "3cde05a1-a2a3-4279-bda7-613e68168192",
   "metadata": {},
   "outputs": [
    {
     "data": {
      "text/plain": [
       "0"
      ]
     },
     "execution_count": 144,
     "metadata": {},
     "output_type": "execute_result"
    }
   ],
   "source": [
    "t1.count(1)"
   ]
  },
  {
   "cell_type": "markdown",
   "id": "6e75693d-6df2-4bd8-b1f3-1c68dc1802a1",
   "metadata": {},
   "source": [
    "## 딕셔너리\n",
    "###### : 이름이 누구인지, 생일이 몇월 몇일인지 보기 쉬움"
   ]
  },
  {
   "cell_type": "code",
   "execution_count": 163,
   "id": "229b48c9-e63d-47e7-bb65-ffe72fdfd64a",
   "metadata": {},
   "outputs": [
    {
     "data": {
      "text/plain": [
       "{'name': 'pey', 'phone': '0119993323', 'birth': '1118'}"
      ]
     },
     "execution_count": 163,
     "metadata": {},
     "output_type": "execute_result"
    }
   ],
   "source": [
    "dic = {'name':'pey', 'phone':'0119993323', 'birth': '1118'}\n",
    "dic"
   ]
  },
  {
   "cell_type": "code",
   "execution_count": 164,
   "id": "9470468d-61a7-48d5-9eaa-e30db7f57174",
   "metadata": {},
   "outputs": [
    {
     "data": {
      "text/plain": [
       "'pey'"
      ]
     },
     "execution_count": 164,
     "metadata": {},
     "output_type": "execute_result"
    }
   ],
   "source": [
    "dic['name']  #key를 통해 value 추출"
   ]
  },
  {
   "cell_type": "code",
   "execution_count": 165,
   "id": "726c5870-7762-438f-a385-499f39186040",
   "metadata": {},
   "outputs": [
    {
     "data": {
      "text/plain": [
       "{'phone': '0119993323', 'birth': '1118'}"
      ]
     },
     "execution_count": 165,
     "metadata": {},
     "output_type": "execute_result"
    }
   ],
   "source": [
    "del dic['name']  #key : value 삭제\n",
    "dic"
   ]
  },
  {
   "cell_type": "code",
   "execution_count": 166,
   "id": "99c514b1-faf0-42e4-b740-5cdfa1690392",
   "metadata": {},
   "outputs": [
    {
     "data": {
      "text/plain": [
       "{'phone': '0119993323', 'birth': '1118', 'name': 'hello'}"
      ]
     },
     "execution_count": 166,
     "metadata": {},
     "output_type": "execute_result"
    }
   ],
   "source": [
    "dic['name'] = 'hello'  #key : value 추가\n",
    "dic"
   ]
  },
  {
   "cell_type": "code",
   "execution_count": 167,
   "id": "74815da7-d715-4b03-a39a-611641e010fd",
   "metadata": {},
   "outputs": [
    {
     "data": {
      "text/plain": [
       "{'phone': '0119993323', 'birth': '1118', 'name': 'hell'}"
      ]
     },
     "execution_count": 167,
     "metadata": {},
     "output_type": "execute_result"
    }
   ],
   "source": [
    "dic['name'] = 'hell'  #'name'key 중복시 덮어씀\n",
    "dic"
   ]
  },
  {
   "cell_type": "markdown",
   "id": "f0960aa7-6c21-4232-9ca8-09ccbc015da7",
   "metadata": {},
   "source": [
    "튜플도 key로 사용 가능"
   ]
  },
  {
   "cell_type": "code",
   "execution_count": 169,
   "id": "bfc659a6-016b-4ba6-8402-f79a64c84a61",
   "metadata": {},
   "outputs": [
    {
     "data": {
      "text/plain": [
       "{'phone': '0119993323', 'birth': '1118', 'name': 'hell', (1, 2): [2, 3, 4, 5]}"
      ]
     },
     "execution_count": 169,
     "metadata": {},
     "output_type": "execute_result"
    }
   ],
   "source": [
    "dic[(1,2)] = [2,3,4,5]\n",
    "dic"
   ]
  },
  {
   "cell_type": "markdown",
   "id": "8a13c426-6fc8-469d-8ebd-39321b3d9c1b",
   "metadata": {},
   "source": [
    "#### 딕셔너리 관련 함수들\n",
    "###### keys, values, items, clear, get"
   ]
  },
  {
   "cell_type": "code",
   "execution_count": 174,
   "id": "b265da2e-17d3-4002-a500-4f1ad27f964d",
   "metadata": {},
   "outputs": [
    {
     "data": {
      "text/plain": [
       "dict_keys(['phone', 'birth', 'name', (1, 2)])"
      ]
     },
     "execution_count": 174,
     "metadata": {},
     "output_type": "execute_result"
    }
   ],
   "source": [
    "dic.keys()  #key 나열하기"
   ]
  },
  {
   "cell_type": "code",
   "execution_count": 173,
   "id": "73c2a3c3-db2d-4e97-9e65-e59f2de95e8a",
   "metadata": {},
   "outputs": [
    {
     "name": "stdout",
     "output_type": "stream",
     "text": [
      "0119993323\n",
      "1118\n",
      "hell\n",
      "[2, 3, 4, 5]\n"
     ]
    }
   ],
   "source": [
    "for x in dic.keys() :  #각 key에 해당하는 value 나열하기\n",
    "    print(dic[x])"
   ]
  },
  {
   "cell_type": "code",
   "execution_count": 176,
   "id": "89cb312c-2060-4774-899f-540272e81b6b",
   "metadata": {},
   "outputs": [
    {
     "data": {
      "text/plain": [
       "dict_values(['0119993323', '1118', 'hell', [2, 3, 4, 5]])"
      ]
     },
     "execution_count": 176,
     "metadata": {},
     "output_type": "execute_result"
    }
   ],
   "source": [
    "dic.values()  #value 나열하기"
   ]
  },
  {
   "cell_type": "code",
   "execution_count": 178,
   "id": "7c518af6-61b2-4dfe-8576-a35285074146",
   "metadata": {},
   "outputs": [
    {
     "data": {
      "text/plain": [
       "dict_items([('phone', '0119993323'), ('birth', '1118'), ('name', 'hell'), ((1, 2), [2, 3, 4, 5])])"
      ]
     },
     "execution_count": 178,
     "metadata": {},
     "output_type": "execute_result"
    }
   ],
   "source": [
    "dic.items()  #(key,value)쌍으로 나열하기"
   ]
  },
  {
   "cell_type": "code",
   "execution_count": 179,
   "id": "164e5629-5d1a-4b9d-a3d3-3fdd793cd790",
   "metadata": {},
   "outputs": [
    {
     "data": {
      "text/plain": [
       "{}"
      ]
     },
     "execution_count": 179,
     "metadata": {},
     "output_type": "execute_result"
    }
   ],
   "source": [
    "dic.clear()  #딕셔너리 비우기\n",
    "dic"
   ]
  },
  {
   "cell_type": "code",
   "execution_count": 180,
   "id": "fd54e154-c02a-466a-ac91-8578fd88f259",
   "metadata": {},
   "outputs": [],
   "source": [
    "dic = {'name':'pey', 'phone':'0119993323', 'birth': '1118'}"
   ]
  },
  {
   "cell_type": "code",
   "execution_count": 181,
   "id": "80f6d18c-c95d-4d43-8428-de17b424a174",
   "metadata": {},
   "outputs": [
    {
     "ename": "KeyError",
     "evalue": "'name1'",
     "output_type": "error",
     "traceback": [
      "\u001b[1;31m---------------------------------------------------------------------------\u001b[0m",
      "\u001b[1;31mKeyError\u001b[0m                                  Traceback (most recent call last)",
      "\u001b[1;32m~\\AppData\\Local\\Temp/ipykernel_3564/494958058.py\u001b[0m in \u001b[0;36m<module>\u001b[1;34m\u001b[0m\n\u001b[1;32m----> 1\u001b[1;33m \u001b[0mdic\u001b[0m\u001b[1;33m[\u001b[0m\u001b[1;34m'name1'\u001b[0m\u001b[1;33m]\u001b[0m\u001b[1;33m\u001b[0m\u001b[1;33m\u001b[0m\u001b[0m\n\u001b[0m",
      "\u001b[1;31mKeyError\u001b[0m: 'name1'"
     ]
    }
   ],
   "source": [
    "dic['name1']  #오류 (존재하지 않는 key를 입력했기 때문에)"
   ]
  },
  {
   "cell_type": "code",
   "execution_count": 183,
   "id": "51eaea2b-ff3a-48cf-9956-d5550ef012f8",
   "metadata": {},
   "outputs": [],
   "source": [
    "dic.get('name1')  #존재하지 않는 key를 입력해도 오류가 뜨지 않음"
   ]
  },
  {
   "cell_type": "code",
   "execution_count": 184,
   "id": "036addbe-6579-4b63-ae9f-f38885bbcfec",
   "metadata": {},
   "outputs": [
    {
     "data": {
      "text/plain": [
       "'pey'"
      ]
     },
     "execution_count": 184,
     "metadata": {},
     "output_type": "execute_result"
    }
   ],
   "source": [
    "dic.get('name')"
   ]
  },
  {
   "cell_type": "code",
   "execution_count": 185,
   "id": "253141bd-5148-4f55-956c-b50b6cad83ff",
   "metadata": {},
   "outputs": [
    {
     "data": {
      "text/plain": [
       "False"
      ]
     },
     "execution_count": 185,
     "metadata": {},
     "output_type": "execute_result"
    }
   ],
   "source": [
    "'name' in dic.values()  #value중에 'name'이 있냐"
   ]
  },
  {
   "cell_type": "code",
   "execution_count": 186,
   "id": "6c49c7c2-8d92-45ff-b1f2-2fb9ede761d7",
   "metadata": {},
   "outputs": [
    {
     "data": {
      "text/plain": [
       "True"
      ]
     },
     "execution_count": 186,
     "metadata": {},
     "output_type": "execute_result"
    }
   ],
   "source": [
    "'pey' in dic.values() #value중에 'pey'가 있냐"
   ]
  },
  {
   "cell_type": "code",
   "execution_count": 190,
   "id": "0ae3caaf-54af-441a-a4aa-60636d942038",
   "metadata": {},
   "outputs": [
    {
     "data": {
      "text/plain": [
       "True"
      ]
     },
     "execution_count": 190,
     "metadata": {},
     "output_type": "execute_result"
    }
   ],
   "source": [
    "'name' in dic.keys()  #key중에 'name'이 있냐"
   ]
  },
  {
   "cell_type": "markdown",
   "id": "1a78a87c-ba0a-433c-8f8f-210650120a25",
   "metadata": {},
   "source": [
    "## 집합\n",
    "###### : key만 존재          ex)공장의 1000개의 제품번호"
   ]
  },
  {
   "cell_type": "code",
   "execution_count": 193,
   "id": "f92f49cb-31cd-49e2-9713-9483594bacc6",
   "metadata": {},
   "outputs": [
    {
     "data": {
      "text/plain": [
       "[1, 2, 3, 4, 2, 3, 4, 5]"
      ]
     },
     "execution_count": 193,
     "metadata": {},
     "output_type": "execute_result"
    }
   ],
   "source": [
    "s = [1,2,3,4,2,3,4,5]\n",
    "s"
   ]
  },
  {
   "cell_type": "code",
   "execution_count": 195,
   "id": "32657b17-ed2f-4dc7-8ba6-567f60f3a162",
   "metadata": {},
   "outputs": [
    {
     "data": {
      "text/plain": [
       "{1, 2, 3, 4, 5}"
      ]
     },
     "execution_count": 195,
     "metadata": {},
     "output_type": "execute_result"
    }
   ],
   "source": [
    "s1 = set(s)  #집합자료로 변환\n",
    "s1           #요소들이 key로 변환되었기 때문에 중복 불가"
   ]
  },
  {
   "cell_type": "markdown",
   "id": "0694b99d-5147-4701-b15f-e3db3dcea522",
   "metadata": {},
   "source": [
    "## 불\n",
    "###### True / False"
   ]
  },
  {
   "cell_type": "markdown",
   "id": "024177b8-5404-4bb2-822d-712457458b2a",
   "metadata": {},
   "source": [
    "- True : \"python\", [1,2,3], 1\n",
    "- False : \"\", [], (), {}, 0, None"
   ]
  },
  {
   "cell_type": "markdown",
   "id": "781f1134-b069-48cd-995a-b5c6f87a929c",
   "metadata": {},
   "source": [
    "## if문\n",
    "###### 조건문 콜론(:) 필수 !"
   ]
  },
  {
   "cell_type": "code",
   "execution_count": 197,
   "id": "0ea65e3d-4ccd-47ef-9c5a-371af7292452",
   "metadata": {},
   "outputs": [
    {
     "name": "stdout",
     "output_type": "stream",
     "text": [
      "택시를\n",
      "타고\n",
      "가라\n"
     ]
    }
   ],
   "source": [
    "money = True\n",
    "if money:\n",
    "    print(\"택시를\")\n",
    "    print(\"타고\")\n",
    "    print(\"가라\")"
   ]
  },
  {
   "cell_type": "code",
   "execution_count": 198,
   "id": "6b34121d-dd9a-49c7-b13c-780e91f45b7d",
   "metadata": {},
   "outputs": [],
   "source": [
    "pocket = ['paper', 'money', 'cellphone']\n",
    "if 'money' in pocket:\n",
    "    pass                            #아무것도 하지마라 = pass\n",
    "else:\n",
    "    print(\"카드를 꺼내라\")"
   ]
  },
  {
   "cell_type": "markdown",
   "id": "fd820dae-4519-491e-9f14-f9bcdf4a6b08",
   "metadata": {},
   "source": [
    "조건부 표현식"
   ]
  },
  {
   "cell_type": "code",
   "execution_count": 199,
   "id": "ca220378-d5aa-45d9-8a3c-61939fc39bab",
   "metadata": {},
   "outputs": [
    {
     "ename": "SyntaxError",
     "evalue": "invalid syntax (Temp/ipykernel_3564/3118229217.py, line 1)",
     "output_type": "error",
     "traceback": [
      "\u001b[1;36m  File \u001b[1;32m\"C:\\Users\\Admin\\AppData\\Local\\Temp/ipykernel_3564/3118229217.py\"\u001b[1;36m, line \u001b[1;32m1\u001b[0m\n\u001b[1;33m    message = \"success\" if score = input(\"점수는? :\") score >= 60 else \"failure\u001b[0m\n\u001b[1;37m                                 ^\u001b[0m\n\u001b[1;31mSyntaxError\u001b[0m\u001b[1;31m:\u001b[0m invalid syntax\n"
     ]
    }
   ],
   "source": [
    "message = \"success\" if score >= 60 else \"failure"
   ]
  },
  {
   "cell_type": "markdown",
   "id": "4d75bc3f-c2f8-4b2c-ba3e-7a9dbdaca7e4",
   "metadata": {},
   "source": [
    "## while문\n",
    "###### 조건이 맞는 동안 반복"
   ]
  },
  {
   "cell_type": "code",
   "execution_count": null,
   "id": "bce36653-cb20-4c93-8592-2ae907fab10a",
   "metadata": {},
   "outputs": [],
   "source": [
    "coffee = 10\n",
    "money = 300\n",
    "while money:\n",
    "    print(\"돈을 받았으니 커피를 줍니다.\")\n",
    "    coffee = coffee -1\n",
    "    print(\"남은 커피의 양은 %d개입니다.\" % coffee)\n",
    "    if coffee == 0:\n",
    "        print(\"커피가 다 떨어졌습니다. 판매를 중지합니다.\")\n",
    "        break  \n",
    "        #커피가 다 팔리면 가장 가까운 while문 또는 for문을 나감"
   ]
  },
  {
   "cell_type": "code",
   "execution_count": null,
   "id": "8ee729b3-9fe0-420c-ab2d-99b72687badd",
   "metadata": {},
   "outputs": [],
   "source": [
    "coffee = 10\n",
    "while True:    #무한 반복\n",
    "    money = int(input(\"돈을 넣어 주세요: \"))\n",
    "    if money == 300:\n",
    "        print(\"커피를 줍니다.\")\n",
    "        coffee = coffee -1\n",
    "    elif money > 300:\n",
    "        print(\"거스름돈 %d를 주고 커피를 줍니다.\" % (money -300))\n",
    "        coffee = coffee -1\n",
    "    else:\n",
    "        print(\"돈을 다시 돌려주고 커피를 주지 않습니다.\")\n",
    "        print(\"남은 커피의 양은 %d개 입니다.\" % coffee)\n",
    "    if coffee == 0:\n",
    "        print(\"커피가 다 떨어졌습니다. 판매를 중지 합니다.\")\n",
    "        break"
   ]
  },
  {
   "cell_type": "code",
   "execution_count": null,
   "id": "6cc49de6-db45-43c2-a17f-9bb59f9afe5c",
   "metadata": {},
   "outputs": [],
   "source": [
    "a = 0\n",
    "while a < 10:\n",
    "    a = a + 1\n",
    "    if a % 2 == 0: continue  #나머지가 0이면 while문의 시작으로 돌아가라\n",
    "    print(a)"
   ]
  },
  {
   "cell_type": "markdown",
   "id": "43198a61-f566-4bf6-8d10-7a1c09a55f5e",
   "metadata": {
    "tags": []
   },
   "source": [
    "## for문\n",
    "###### 횟수 지정"
   ]
  },
  {
   "cell_type": "code",
   "execution_count": 203,
   "id": "095bfec1-df94-42fb-afdc-ea244ad7f1bf",
   "metadata": {
    "collapsed": true,
    "jupyter": {
     "outputs_hidden": true
    },
    "tags": []
   },
   "outputs": [
    {
     "name": "stdout",
     "output_type": "stream",
     "text": [
      "1\n",
      "2\n",
      "3\n",
      "4\n",
      "5\n"
     ]
    }
   ],
   "source": [
    "for i in [1,2,3,4,5] :  # i=1,2,3,4,5\n",
    "    print(i)"
   ]
  },
  {
   "cell_type": "code",
   "execution_count": 205,
   "id": "7a25cd89-3fa9-4810-a324-f14b6435b746",
   "metadata": {
    "collapsed": true,
    "jupyter": {
     "outputs_hidden": true
    },
    "tags": []
   },
   "outputs": [
    {
     "name": "stdout",
     "output_type": "stream",
     "text": [
      "0\n",
      "1\n",
      "2\n",
      "3\n",
      "4\n",
      "5\n",
      "6\n",
      "7\n",
      "8\n",
      "9\n"
     ]
    }
   ],
   "source": [
    "for i in range(10) :  # i=0이상 10미만\n",
    "    print(i)"
   ]
  },
  {
   "cell_type": "code",
   "execution_count": 206,
   "id": "f39f2209-29bf-472e-bf69-9facad5d6768",
   "metadata": {},
   "outputs": [
    {
     "name": "stdout",
     "output_type": "stream",
     "text": [
      "0 a\n",
      "1 b\n",
      "2 c\n"
     ]
    }
   ],
   "source": [
    "for i, data in enumerate(['a','b','c']) :  # i는 인덱스값 data = 'a','b','c'\n",
    "    print(i,data)"
   ]
  },
  {
   "cell_type": "code",
   "execution_count": 210,
   "id": "6027a7d5-caa6-42e6-b3dc-5bc205a8202a",
   "metadata": {},
   "outputs": [
    {
     "name": "stdout",
     "output_type": "stream",
     "text": [
      "[3, 6, 9, 12]\n"
     ]
    }
   ],
   "source": [
    "r = [1,2,3,4]\n",
    "result = [num*3 for num in r]  # r에서 꺼내와서 3을 곱하고 리스트로 묶기\n",
    "print(result)"
   ]
  },
  {
   "cell_type": "code",
   "execution_count": 213,
   "id": "61607930-87db-46fa-9429-66151e54b324",
   "metadata": {},
   "outputs": [
    {
     "name": "stdout",
     "output_type": "stream",
     "text": [
      "[6, 12]\n"
     ]
    }
   ],
   "source": [
    "result = [num*3 for num in r if num%2 == 0]\n",
    "print(result)"
   ]
  },
  {
   "cell_type": "code",
   "execution_count": null,
   "id": "26aa7a84-cb40-47d5-91fc-a5e7a05a586b",
   "metadata": {},
   "outputs": [],
   "source": []
  }
 ],
 "metadata": {
  "kernelspec": {
   "display_name": "Python 3 (ipykernel)",
   "language": "python",
   "name": "python3"
  },
  "language_info": {
   "codemirror_mode": {
    "name": "ipython",
    "version": 3
   },
   "file_extension": ".py",
   "mimetype": "text/x-python",
   "name": "python",
   "nbconvert_exporter": "python",
   "pygments_lexer": "ipython3",
   "version": "3.9.7"
  }
 },
 "nbformat": 4,
 "nbformat_minor": 5
}
