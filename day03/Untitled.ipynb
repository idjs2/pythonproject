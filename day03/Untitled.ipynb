{
 "cells": [
  {
   "cell_type": "code",
   "execution_count": 1,
   "id": "6aaa3205-a027-4bcc-98c5-e6a3cae4c7d6",
   "metadata": {},
   "outputs": [],
   "source": [
    "file = open('hello.txt', 'w')  #hello.txt파일 객체 생성 및 쓰기모드(w)로 열기\n",
    "file.write('Hello, world!')  #파일에 문자열 저장\n",
    "file.close()  #파일 객체 닫기"
   ]
  },
  {
   "cell_type": "code",
   "execution_count": 2,
   "id": "01b73423-8c17-4d4b-9620-16d83d65d185",
   "metadata": {},
   "outputs": [
    {
     "name": "stdout",
     "output_type": "stream",
     "text": [
      "Hello, world!\n"
     ]
    }
   ],
   "source": [
    "file = open('hello.txt', 'r')  #읽기 모드(r)\n",
    "s = file.read()  #파일 속 문자열을 s에 입력\n",
    "print(s)\n",
    "file.close()  #파일은 열었으면 반드시 닫아야 한다."
   ]
  },
  {
   "cell_type": "code",
   "execution_count": 3,
   "id": "cdd08061-8bbd-4f37-9608-4b8e48bbb9b6",
   "metadata": {},
   "outputs": [
    {
     "name": "stdout",
     "output_type": "stream",
     "text": [
      "Hello, world!\n"
     ]
    }
   ],
   "source": [
    "with open('hello.txt', 'r') as file :  #with as -> 파일을 자동으로 닫아주는 시스템\n",
    "    s = file.read()\n",
    "    print(s)"
   ]
  },
  {
   "cell_type": "code",
   "execution_count": 4,
   "id": "ee0cce0a-bebe-420e-9db8-fe62080e7bf1",
   "metadata": {},
   "outputs": [],
   "source": [
    "with open('hello.txt', 'w') as file :\n",
    "    for i in range(3) :  #문장을 3번 반복 저장\n",
    "        file.write('Hello, world! {0}\\n'.format(i))  #{0}자리에 i를 대입 + \\n을 통해 줄바꿈"
   ]
  },
  {
   "cell_type": "code",
   "execution_count": 8,
   "id": "99bf65da-5177-425f-9f96-56ea4d485833",
   "metadata": {},
   "outputs": [],
   "source": [
    "lines = ['안녕하세요.\\n', '파이썬\\n', '코딩 도장입니다.\\n']  #파일에서 자동으로 줄을 바꾸기 위해 \\n을 붙인다.\n",
    "\n",
    "with open('hello.txt', 'w') as file :\n",
    "    file.writelines(lines)  #리스트 안의 문자열을 파일에 저장"
   ]
  },
  {
   "cell_type": "code",
   "execution_count": 9,
   "id": "99327a3a-6e3d-425b-9a63-83b854efa544",
   "metadata": {},
   "outputs": [
    {
     "name": "stdout",
     "output_type": "stream",
     "text": [
      "['안녕하세요.\\n', '파이썬\\n', '코딩 도장입니다.\\n']\n"
     ]
    }
   ],
   "source": [
    "with open('hello.txt', 'r') as file :\n",
    "    lines = file.readlines()  #파일안의 문자열을 한 줄씩 리스트에 저장\n",
    "    print(lines)"
   ]
  },
  {
   "cell_type": "code",
   "execution_count": 12,
   "id": "c4338b9f-170c-4e67-ae1f-546f0478f2a0",
   "metadata": {},
   "outputs": [
    {
     "name": "stdout",
     "output_type": "stream",
     "text": [
      "안녕하세요.\n",
      "파이썬\n",
      "코딩 도장입니다.\n",
      "\n"
     ]
    }
   ],
   "source": [
    "with open('hello.txt', 'r') as file :\n",
    "          line = None  #line 객체 초기화\n",
    "          while line != '' :  #파일의 문자열이 없어질때까지 실행\n",
    "                line = file.readline()\n",
    "                print(line.strip('\\n'))  #읽어온 문자열의 \\n없애주기\n",
    "                                         #print실행시 자동으로 줄이 바뀌기 때문에 \\n을 없애지않으면 줄바꿈이 2번 일어난다."
   ]
  },
  {
   "cell_type": "code",
   "execution_count": 13,
   "id": "e87835a0-a410-42d4-9781-35d8f6b3217b",
   "metadata": {},
   "outputs": [
    {
     "name": "stdout",
     "output_type": "stream",
     "text": [
      "안녕하세요.\n",
      "파이썬\n",
      "코딩 도장입니다.\n"
     ]
    }
   ],
   "source": [
    "with open('hello.txt', 'r') as file :\n",
    "    for line in file :  #한 줄씩 line에 입력\n",
    "        \n",
    "        print(line.strip('\\n'))"
   ]
  },
  {
   "cell_type": "code",
   "execution_count": 17,
   "id": "3305c7e3-ab54-4f91-8094-f53e09987576",
   "metadata": {},
   "outputs": [],
   "source": [
    "import pickle  # 피클링 : 파이썬 객체를 파일에 저장하는 작업 - pickle.dump 활용\n",
    "\n",
    "name = 'james'\n",
    "age = 17\n",
    "address = '서울시 서초구 반포동'\n",
    "scores = {'korean':90, 'english':95, 'mathmatics':85, 'science':82}\n",
    "\n",
    "with open('james.p', 'wb') as file :  #확장자 p, 바이너리파일 쓰기모드(wb)\n",
    "                                      #바이너리파일 : 컴퓨터가 알아보기 좋은 파일\n",
    "    pickle.dump(name, file)\n",
    "    pickle.dump(age, file)\n",
    "    pickle.dump(address, file)\n",
    "    pickle.dump(scores, file)  #pickle.dump로 저장할때 'wb'모드"
   ]
  },
  {
   "cell_type": "code",
   "execution_count": 22,
   "id": "8b941279-35d0-42c8-9f89-6ec20aaf478d",
   "metadata": {},
   "outputs": [
    {
     "name": "stdout",
     "output_type": "stream",
     "text": [
      "james\n",
      "17\n",
      "서울시 서초구 반포동\n",
      "{'korean': 90, 'english': 95, 'mathmatics': 85, 'science': 82}\n"
     ]
    }
   ],
   "source": [
    "import pickle  # 언피클링 :파일에서 파이썬 객체를 저장하는 작업 -pickle.load\n",
    "\n",
    "with open('james.p', 'rb') as file :  #pickle.load로 읽어올때 'rb'모드\n",
    "    name = pickle.load(file)\n",
    "    age = pickle.load(file)\n",
    "    address = pickle.load(file)\n",
    "    scores = pickle.load(file)\n",
    "    print(name)\n",
    "    print(age)\n",
    "    print(address)\n",
    "    print(scores)"
   ]
  },
  {
   "cell_type": "raw",
   "id": "0d620cd4-42b9-48c6-8880-29a200722893",
   "metadata": {},
   "source": [
    "1. 일정 추가 2. 일정 보기 3. 일정 삭제 4. 프로그램 종료\n"
   ]
  },
  {
   "cell_type": "code",
   "execution_count": null,
   "id": "af09131c-47a6-4b30-b14c-86838aa754e6",
   "metadata": {},
   "outputs": [],
   "source": [
    "day = input(\"요일을 입력하세요 : \")\n",
    "\n",
    "week = [\"mon\",\"tue\",\"wed\",\"thu\",\"fri\",\"sat\",\"sun\"]\n",
    "\n",
    "mon\n",
    "\n",
    "\n",
    "li = []\n",
    "\n",
    "while True :\n",
    "    m = input(\"일정을 입력하세요 : \")\n",
    "    li.append(m)\n",
    "    if m.lower() = q :\n",
    "        print(m)\n",
    "        print(\"입력 완료\")\n",
    "        break"
   ]
  },
  {
   "cell_type": "code",
   "execution_count": 23,
   "id": "1d551674-17a6-47a7-ad3e-e8f112eb3d07",
   "metadata": {},
   "outputs": [
    {
     "name": "stdin",
     "output_type": "stream",
     "text": [
      "할일을 입력하세요 : 학교\n"
     ]
    }
   ],
   "source": [
    "li = [input(\"할일을 입력하세요 :\")]"
   ]
  },
  {
   "cell_type": "code",
   "execution_count": 24,
   "id": "1d7c9f87-8de1-4f5e-a25c-311e7a873c62",
   "metadata": {},
   "outputs": [
    {
     "data": {
      "text/plain": [
       "['학교']"
      ]
     },
     "execution_count": 24,
     "metadata": {},
     "output_type": "execute_result"
    }
   ],
   "source": [
    "li.lower() = q"
   ]
  },
  {
   "cell_type": "code",
   "execution_count": 26,
   "id": "4c967d58-08e6-4141-895e-2018e8ce924a",
   "metadata": {},
   "outputs": [
    {
     "name": "stdin",
     "output_type": "stream",
     "text": [
      "일정을 입력하세요 :  gkdl\n"
     ]
    },
    {
     "data": {
      "text/plain": [
       "'gkdl'"
      ]
     },
     "execution_count": 26,
     "metadata": {},
     "output_type": "execute_result"
    }
   ],
   "source": [
    "m = input(\"일정을 입력하세요 : \")\n",
    "li.append(m)\n",
    "m"
   ]
  },
  {
   "cell_type": "code",
   "execution_count": 41,
   "id": "b3e63ff0-2eb4-4010-a655-85506994699c",
   "metadata": {},
   "outputs": [
    {
     "name": "stdin",
     "output_type": "stream",
     "text": [
      "일정을 입력하세요 :  eij\n",
      "일정을 입력하세요 :  adsk\n",
      "일정을 입력하세요 :  q\n"
     ]
    },
    {
     "name": "stdout",
     "output_type": "stream",
     "text": [
      "입력 완료\n",
      "['eij', 'adsk']\n"
     ]
    }
   ],
   "source": [
    "mon = []\n",
    "while True :\n",
    "    m = input(\"일정을 입력하세요 : \")\n",
    "    mon.append(m)\n",
    "    if m.lower() == 'q' :\n",
    "        mon.remove('q')\n",
    "        print(\"입력 완료\")\n",
    "        print(mon)\n",
    "        break"
   ]
  },
  {
   "cell_type": "code",
   "execution_count": 46,
   "id": "a42c3727-e3bb-4391-8ef6-ad9020e10d85",
   "metadata": {},
   "outputs": [
    {
     "name": "stdin",
     "output_type": "stream",
     "text": [
      "추가할 일정을 입력하세요. >>>  adsf\n",
      "추가할 일정을 입력하세요. >>>  eds\n",
      "추가할 일정을 입력하세요. >>>  q\n"
     ]
    },
    {
     "name": "stdout",
     "output_type": "stream",
     "text": [
      "입력 완료\n",
      "[]\n"
     ]
    }
   ],
   "source": [
    "while True :\n",
    "    mon = []\n",
    "    m = input(\"추가할 일정을 입력하세요. >>> \")\n",
    "    mon.append(m)\n",
    "    if m.lower() == 'q' :\n",
    "        mon.remove('q')\n",
    "        print(\"입력 완료\")\n",
    "        print(mon)\n",
    "        break"
   ]
  },
  {
   "cell_type": "code",
   "execution_count": null,
   "id": "7ed2af79-ad15-4338-886e-b63ec2a9bc3d",
   "metadata": {},
   "outputs": [
    {
     "name": "stdin",
     "output_type": "stream",
     "text": [
      "\n",
      "-------------------------------------------------\n",
      "1.일정입력 2.일정확인 3.일정삭제. 4.프로그램종료\n",
      "-------------------------------------------------\n",
      "메뉴선택 >>>  1\n",
      "요일을 선택하세요.\n",
      "ex) mon, tue, wed, thu, fri , sat, sun\n",
      ">>> mon\n",
      "추가할 일정을 입력하세요. >>>  아침\n"
     ]
    },
    {
     "name": "stdout",
     "output_type": "stream",
     "text": [
      "mon -> ['아침'] \n",
      "\n"
     ]
    },
    {
     "name": "stdin",
     "output_type": "stream",
     "text": [
      "추가할 일정을 입력하세요. >>>  점심\n"
     ]
    },
    {
     "name": "stdout",
     "output_type": "stream",
     "text": [
      "mon -> ['아침', '점심'] \n",
      "\n"
     ]
    },
    {
     "name": "stdin",
     "output_type": "stream",
     "text": [
      "추가할 일정을 입력하세요. >>>  저녁\n"
     ]
    },
    {
     "name": "stdout",
     "output_type": "stream",
     "text": [
      "mon -> ['아침', '점심', '저녁'] \n",
      "\n"
     ]
    },
    {
     "name": "stdin",
     "output_type": "stream",
     "text": [
      "추가할 일정을 입력하세요. >>>  q\n"
     ]
    },
    {
     "name": "stdout",
     "output_type": "stream",
     "text": [
      "입력 완료\n",
      "['아침', '점심', '저녁'] \n",
      "\n"
     ]
    },
    {
     "name": "stdin",
     "output_type": "stream",
     "text": [
      "요일을 선택하세요.\n",
      "ex) mon, tue, wed, thu, fri , sat, sun\n",
      ">>> sat\n",
      "추가할 일정을 입력하세요. >>>  저녁\n"
     ]
    },
    {
     "name": "stdout",
     "output_type": "stream",
     "text": [
      "sat -> ['저녁'] \n",
      "\n"
     ]
    },
    {
     "name": "stdin",
     "output_type": "stream",
     "text": [
      "추가할 일정을 입력하세요. >>>  새벽\n"
     ]
    },
    {
     "name": "stdout",
     "output_type": "stream",
     "text": [
      "sat -> ['저녁', '새벽'] \n",
      "\n"
     ]
    },
    {
     "name": "stdin",
     "output_type": "stream",
     "text": [
      "추가할 일정을 입력하세요. >>>  q\n"
     ]
    },
    {
     "name": "stdout",
     "output_type": "stream",
     "text": [
      "입력 완료\n",
      "['저녁', '새벽'] \n",
      "\n"
     ]
    },
    {
     "name": "stdin",
     "output_type": "stream",
     "text": [
      "요일을 선택하세요.\n",
      "ex) mon, tue, wed, thu, fri , sat, sun\n",
      ">>> q\n"
     ]
    },
    {
     "name": "stdout",
     "output_type": "stream",
     "text": [
      "일정이 등록되었습니다.\n"
     ]
    },
    {
     "name": "stdin",
     "output_type": "stream",
     "text": [
      "\n",
      "-------------------------------------------------\n",
      "1.일정입력 2.일정확인 3.일정삭제. 4.프로그램종료\n",
      "-------------------------------------------------\n",
      "메뉴선택 >>>  2\n"
     ]
    },
    {
     "name": "stdout",
     "output_type": "stream",
     "text": [
      "------  mon  ------\n",
      "아침 \n",
      "\n",
      "점심 \n",
      "\n",
      "저녁 \n",
      "\n",
      "------  tue  ------\n",
      "------  wed  ------\n",
      "------  thu  ------\n",
      "------  fri  ------\n",
      "------  sat  ------\n",
      "저녁 \n",
      "\n",
      "새벽 \n",
      "\n",
      "------  sun  ------\n"
     ]
    },
    {
     "name": "stdin",
     "output_type": "stream",
     "text": [
      "\n",
      "-------------------------------------------------\n",
      "1.일정입력 2.일정확인 3.일정삭제. 4.프로그램종료\n",
      "-------------------------------------------------\n",
      "메뉴선택 >>>  3\n",
      "요일을 선택하세요.\n",
      "ex) mon, tue, wed, thr, fri , sat, sun\n",
      ">>> mon\n"
     ]
    },
    {
     "name": "stdout",
     "output_type": "stream",
     "text": [
      "mon -> ['아침', '점심', '저녁'] \n",
      "\n"
     ]
    },
    {
     "name": "stdin",
     "output_type": "stream",
     "text": [
      "삭제할 일정을 입력하세요 >>>  저녁\n"
     ]
    },
    {
     "name": "stdout",
     "output_type": "stream",
     "text": [
      "mon -> ['아침', '점심'] \n",
      "\n"
     ]
    }
   ],
   "source": [
    "dic = {'mon':0,'tue':1,'wed':2,'thu':3,'fri':4,'sat':5,'sun':6}  #요일별 번호 매기기\n",
    "weeks = ['mon', 'tue', 'wed', 'thu', 'fri' , 'sat', 'sun']  #요일명이 저장된 리스트\n",
    "\n",
    "schedule = [[], [], [], [], [], [], []]  #요일별 리스트가 저장될 리스트\n",
    "\n",
    "\n",
    "while True:\n",
    "    choice = input('''\n",
    "-------------------------------------------------\n",
    "1.일정입력 2.일정확인 3.일정삭제. 4.프로그램종료\n",
    "-------------------------------------------------\n",
    "메뉴선택 >>> ''')\n",
    "    \n",
    "    if choice == '1':\n",
    "        while True:\n",
    "            days = input('''요일을 선택하세요.\n",
    "ex) mon, tue, wed, thu, fri , sat, sun\n",
    ">>>''')\n",
    "            if days.lower() == 'q' :\n",
    "                print(\"일정이 등록되었습니다.\")\n",
    "                break\n",
    "                \n",
    "            elif days == weeks[dic[days]] :\n",
    "                num = dic[days]\n",
    "\n",
    "                while True:\n",
    "                    name = input('추가할 일정을 입력하세요. >>> ')\n",
    "                    schedule[num].append(name)\n",
    "\n",
    "                    if name.lower() == 'q':\n",
    "                        schedule[num].remove('q')\n",
    "                        print(\"입력 완료\")\n",
    "                        print(schedule[num], '\\n')\n",
    "                        break\n",
    "                    else :\n",
    "                        print(weeks[num], '->', schedule[num], '\\n')\n",
    "                        \n",
    "                        \n",
    "    if choice == '2':\n",
    "        for i in weeks :\n",
    "            num = dic[i]\n",
    "            print('------ ', weeks[num] , ' ------')\n",
    "            for j in schedule[num] : \n",
    "                print(j, \"\\n\")\n",
    "                        \n",
    "    if choice == '3':\n",
    "        while True :\n",
    "            days = input('''요일을 선택하세요.\n",
    "ex) mon, tue, wed, thr, fri , sat, sun\n",
    ">>>''') \n",
    "            if days.lower() == 'q' :\n",
    "                print(\"일정이 등록되었습니다.\")\n",
    "                break\n",
    "            \n",
    "            elif days == weeks[dic[days]] :\n",
    "                num = dic[days]\n",
    "                print(weeks[num], '->', schedule[num], '\\n')\n",
    "                \n",
    "                while True :\n",
    "                    x = input('삭제할 일정을 입력하세요 >>> ')\n",
    "\n",
    "                    if x.lower() == 'q' :\n",
    "                        print(\"삭제 완료\")\n",
    "                        print(schedule[num], '\\n')\n",
    "                        break\n",
    "                    elif x in schedule[num] :\n",
    "                        schedule[num].remove(x)\n",
    "                        print(weeks[num], '->', schedule[num], '\\n')\n",
    "                        \n",
    "                        \n",
    "    if choice == '4':\n",
    "        close = input('종료하시겠습니까? : Y/N')\n",
    "        if close.lower() == \"y\" :\n",
    "            print('프로그램 종료')\n",
    "            break\n",
    "            \n"
   ]
  },
  {
   "cell_type": "code",
   "execution_count": 39,
   "id": "48a4745a-9ae7-4abc-b35f-15707e3756e0",
   "metadata": {},
   "outputs": [
    {
     "data": {
      "text/plain": [
       "['mon', 'tue', 'wed', 'thr', 'fri', 'sat', 'sun']"
      ]
     },
     "execution_count": 39,
     "metadata": {},
     "output_type": "execute_result"
    }
   ],
   "source": [
    "weeks"
   ]
  },
  {
   "cell_type": "code",
   "execution_count": 11,
   "id": "2c12aa74-0cb3-45ca-a899-a27af91f13ef",
   "metadata": {},
   "outputs": [
    {
     "data": {
      "text/plain": [
       "'mpn'"
      ]
     },
     "execution_count": 11,
     "metadata": {},
     "output_type": "execute_result"
    }
   ],
   "source": [
    "dic = {'mon':0,'tue':1,'wed':2,'thu':3,'fri':4,'sat':5,'sun':6}\n",
    "weeks = ['mon', 'tue', 'wed', 'thr', 'fri' , 'sat', 'sun']\n",
    "\n",
    "days = 'mon'\n",
    "\n",
    "st"
   ]
  },
  {
   "cell_type": "code",
   "execution_count": null,
   "id": "fe3cd870-b595-47fe-bd46-aaed456a6cc3",
   "metadata": {},
   "outputs": [],
   "source": [
    "mon = {}\n",
    "tue = {}\n",
    "wed = {}\n",
    "thu = {}\n",
    "fri = {}\n",
    "sat = {}\n",
    "sun = {}\n",
    "\n"
   ]
  },
  {
   "cell_type": "code",
   "execution_count": 18,
   "id": "bc2e5e0f-4e0a-4e92-a7e4-be82576b5970",
   "metadata": {},
   "outputs": [
    {
     "data": {
      "text/plain": [
       "[[], ['dsf', 'ef'], [], [], [], [], ['fd', 'cc', '']]"
      ]
     },
     "execution_count": 18,
     "metadata": {},
     "output_type": "execute_result"
    }
   ],
   "source": [
    "schedule\n",
    "    "
   ]
  }
 ],
 "metadata": {
  "kernelspec": {
   "display_name": "Python 3 (ipykernel)",
   "language": "python",
   "name": "python3"
  },
  "language_info": {
   "codemirror_mode": {
    "name": "ipython",
    "version": 3
   },
   "file_extension": ".py",
   "mimetype": "text/x-python",
   "name": "python",
   "nbconvert_exporter": "python",
   "pygments_lexer": "ipython3",
   "version": "3.9.7"
  }
 },
 "nbformat": 4,
 "nbformat_minor": 5
}
