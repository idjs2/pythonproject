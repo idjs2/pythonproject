{
 "cells": [
  {
   "cell_type": "markdown",
   "id": "b151e85a-ef41-4a02-89d3-c9982f30418e",
   "metadata": {},
   "source": [
    "quiz 05>\n",
    "타자게임\n",
    "- 데이터는 word = ['cat','dog','fox','monkey','mouse','panda','frog','snake','wolf']\n",
    "- 문제는 총 5문제가 나옵니다.\n",
    "- 나온 문제는 맞출때까지 계속됩니다.\n",
    "- 문제를 맞추면 다음 문제가 나옵니다.\n",
    "- 문제 무작위출제"
   ]
  },
  {
   "cell_type": "markdown",
   "id": "9fdbb3dc-70d0-42ff-ab17-4cc9e11be39e",
   "metadata": {},
   "source": [
    "#### 내 꺼"
   ]
  },
  {
   "cell_type": "code",
   "execution_count": 8,
   "id": "0780c3e3-33ef-45b5-a3ce-1f381dd8f23b",
   "metadata": {},
   "outputs": [
    {
     "name": "stdout",
     "output_type": "stream",
     "text": [
      "fox\n"
     ]
    },
    {
     "name": "stdin",
     "output_type": "stream",
     "text": [
      ">>>  foxxxxxxxxxxxxxx\n"
     ]
    },
    {
     "name": "stdout",
     "output_type": "stream",
     "text": [
      "fox\n"
     ]
    },
    {
     "name": "stdin",
     "output_type": "stream",
     "text": [
      ">>>  fofek\n"
     ]
    },
    {
     "name": "stdout",
     "output_type": "stream",
     "text": [
      "fox\n"
     ]
    },
    {
     "name": "stdin",
     "output_type": "stream",
     "text": [
      ">>>  foesa\n"
     ]
    },
    {
     "name": "stdout",
     "output_type": "stream",
     "text": [
      "fox\n"
     ]
    },
    {
     "name": "stdin",
     "output_type": "stream",
     "text": [
      ">>>  fox\n"
     ]
    },
    {
     "name": "stdout",
     "output_type": "stream",
     "text": [
      "snake\n"
     ]
    },
    {
     "name": "stdin",
     "output_type": "stream",
     "text": [
      ">>>  snake\n"
     ]
    },
    {
     "name": "stdout",
     "output_type": "stream",
     "text": [
      "monkey\n"
     ]
    },
    {
     "name": "stdin",
     "output_type": "stream",
     "text": [
      ">>>  monkey\n"
     ]
    },
    {
     "name": "stdout",
     "output_type": "stream",
     "text": [
      "wolf\n"
     ]
    },
    {
     "name": "stdin",
     "output_type": "stream",
     "text": [
      ">>>  wolf\n"
     ]
    },
    {
     "name": "stdout",
     "output_type": "stream",
     "text": [
      "mouse\n"
     ]
    },
    {
     "name": "stdin",
     "output_type": "stream",
     "text": [
      ">>>  mouse\n"
     ]
    },
    {
     "name": "stdout",
     "output_type": "stream",
     "text": [
      "문제를 모두 맞혔습니다 !\n"
     ]
    }
   ],
   "source": [
    "#타자게임\n",
    "import random as r\n",
    "\n",
    "word = ['cat','dog','fox','monkey','mouse','panda','frog','snake','wolf']\n",
    "\n",
    "\n",
    "for i in range(5) :\n",
    "    ans = r.choice(word)  #리스트에서 요소 추출\n",
    "    while True :\n",
    "        print(ans)\n",
    "        if ans == input('>>> ') :\n",
    "            word.remove(ans)\n",
    "            break\n",
    "print('문제를 모두 맞혔습니다 !')"
   ]
  },
  {
   "cell_type": "code",
   "execution_count": 15,
   "id": "b6c9b83b-06d1-437d-9f01-6f1725330054",
   "metadata": {},
   "outputs": [
    {
     "name": "stdout",
     "output_type": "stream",
     "text": [
      "mouse\n"
     ]
    },
    {
     "name": "stdin",
     "output_type": "stream",
     "text": [
      ">>>  mouse\n"
     ]
    },
    {
     "name": "stdout",
     "output_type": "stream",
     "text": [
      "cat\n"
     ]
    },
    {
     "name": "stdin",
     "output_type": "stream",
     "text": [
      ">>>  catt\n"
     ]
    },
    {
     "name": "stdout",
     "output_type": "stream",
     "text": [
      "cat\n"
     ]
    },
    {
     "name": "stdin",
     "output_type": "stream",
     "text": [
      ">>>  cat\n"
     ]
    },
    {
     "name": "stdout",
     "output_type": "stream",
     "text": [
      "snake\n"
     ]
    },
    {
     "name": "stdin",
     "output_type": "stream",
     "text": [
      ">>>  snake\n"
     ]
    },
    {
     "name": "stdout",
     "output_type": "stream",
     "text": [
      "frog\n"
     ]
    },
    {
     "name": "stdin",
     "output_type": "stream",
     "text": [
      ">>>  frog\n"
     ]
    },
    {
     "name": "stdout",
     "output_type": "stream",
     "text": [
      "monkey\n"
     ]
    },
    {
     "name": "stdin",
     "output_type": "stream",
     "text": [
      ">>>  monkey\n"
     ]
    },
    {
     "name": "stdout",
     "output_type": "stream",
     "text": [
      "문제를 모두 맞혔습니다 !\n",
      "9.62초\n"
     ]
    }
   ],
   "source": [
    "#타자게임(시간기록)\n",
    "import random, time\n",
    "\n",
    "word = ['cat','dog','fox','monkey','mouse','panda','frog','snake','wolf']\n",
    "\n",
    "start = time.time()\n",
    "for i in range(5) :\n",
    "    ans = random.choice(word)  #리스트에서 요소 추출\n",
    "    while True :\n",
    "        print(ans)\n",
    "        if ans == input('>>> ') :\n",
    "            word.remove(ans)\n",
    "            break\n",
    "end = time.time()\n",
    "print('문제를 모두 맞혔습니다 !')\n",
    "print(f'{end-start:.2f}초')"
   ]
  },
  {
   "cell_type": "code",
   "execution_count": 9,
   "id": "9258ab42-6c5d-45af-b804-6dfa7c84a666",
   "metadata": {},
   "outputs": [
    {
     "name": "stdout",
     "output_type": "stream",
     "text": [
      "1번\n",
      "monkey\n"
     ]
    },
    {
     "name": "stdin",
     "output_type": "stream",
     "text": [
      " monkey\n"
     ]
    },
    {
     "name": "stdout",
     "output_type": "stream",
     "text": [
      "통과!\n",
      "2번\n",
      "wolf\n"
     ]
    },
    {
     "name": "stdin",
     "output_type": "stream",
     "text": [
      " wolf\n"
     ]
    },
    {
     "name": "stdout",
     "output_type": "stream",
     "text": [
      "통과!\n",
      "3번\n",
      "snake\n"
     ]
    },
    {
     "name": "stdin",
     "output_type": "stream",
     "text": [
      " snake\n"
     ]
    },
    {
     "name": "stdout",
     "output_type": "stream",
     "text": [
      "통과!\n",
      "4번\n",
      "snake\n"
     ]
    },
    {
     "name": "stdin",
     "output_type": "stream",
     "text": [
      " snake\n"
     ]
    },
    {
     "name": "stdout",
     "output_type": "stream",
     "text": [
      "통과!\n",
      "5번\n",
      "snake\n"
     ]
    },
    {
     "name": "stdin",
     "output_type": "stream",
     "text": [
      " snake\n"
     ]
    },
    {
     "name": "stdout",
     "output_type": "stream",
     "text": [
      "통과!\n",
      "5문제 다 맞췄습니다.\n"
     ]
    }
   ],
   "source": [
    "import random  #강사님 답\n",
    "\n",
    "word = ['cat','dog','fox','monkey','mouse','panda','frog','snake','wolf']\n",
    "n=1\n",
    "quiz = random.choice(word)\n",
    "while n <= 5:\n",
    "    print(f'{n}번')\n",
    "    print(quiz)\n",
    "    x= input()\n",
    "    if quiz == x:\n",
    "        print('통과!')\n",
    "        n +=1\n",
    "        quiz = random.choice(word)\n",
    "    else:\n",
    "        print('오타! 다시도전!')\n",
    "print('5문제 다 맞췄습니다.')"
   ]
  },
  {
   "cell_type": "code",
   "execution_count": 13,
   "id": "3de03012-40a8-4ab6-b51a-67b4f032c907",
   "metadata": {},
   "outputs": [
    {
     "name": "stdin",
     "output_type": "stream",
     "text": [
      "시작!(enter) \n"
     ]
    },
    {
     "name": "stdout",
     "output_type": "stream",
     "text": [
      "1번\n",
      "frog\n"
     ]
    },
    {
     "name": "stdin",
     "output_type": "stream",
     "text": [
      " frog\n"
     ]
    },
    {
     "name": "stdout",
     "output_type": "stream",
     "text": [
      "통과!\n",
      "2번\n",
      "wolf\n"
     ]
    },
    {
     "name": "stdin",
     "output_type": "stream",
     "text": [
      " wolf\n"
     ]
    },
    {
     "name": "stdout",
     "output_type": "stream",
     "text": [
      "통과!\n",
      "3번\n",
      "frog\n"
     ]
    },
    {
     "name": "stdin",
     "output_type": "stream",
     "text": [
      " frog\n"
     ]
    },
    {
     "name": "stdout",
     "output_type": "stream",
     "text": [
      "통과!\n",
      "4번\n",
      "frog\n"
     ]
    },
    {
     "name": "stdin",
     "output_type": "stream",
     "text": [
      " frog\n"
     ]
    },
    {
     "name": "stdout",
     "output_type": "stream",
     "text": [
      "통과!\n",
      "5번\n",
      "cat\n"
     ]
    },
    {
     "name": "stdin",
     "output_type": "stream",
     "text": [
      " cat\n"
     ]
    },
    {
     "name": "stdout",
     "output_type": "stream",
     "text": [
      "통과!\n",
      "5문제 다 맞췄습니다.\n",
      "9.81초\n"
     ]
    }
   ],
   "source": [
    "import random, time  #강사님 답\n",
    "\n",
    "word = ['cat','dog','fox','monkey','mouse','panda','frog','snake','wolf']\n",
    "n=1\n",
    "quiz = random.choice(word)\n",
    "input('시작!(enter)')\n",
    "start = time.time()  #현재 시간을 나타냄(시작시간)\n",
    "while n <= 5:\n",
    "    print(f'{n}번')\n",
    "    print(quiz)\n",
    "    x= input()\n",
    "    if quiz == x:\n",
    "        print('통과!')\n",
    "        n +=1\n",
    "        quiz = random.choice(word)\n",
    "    else:\n",
    "        print('오타! 다시도전!')\n",
    "print('5문제 다 맞췄습니다.')\n",
    "end=time.time()  #현재 시간을 나타냄(종료시간)\n",
    "print(f'{end-start:.2f}초')  #end-start를 소수점 아래 둘째자리까지 나타내기"
   ]
  },
  {
   "cell_type": "markdown",
   "id": "4ecba3be-3937-4391-851d-6dfe1e297d3a",
   "metadata": {},
   "source": [
    "quiz 6>\n",
    "앞에 타자 게임을 활용\n",
    "- 1. 문제추가  2. 타자게임  3. 등수리스트  4. 종료하기\n",
    "- 문제추가 후 데이터는 파일 저장\n",
    "- 문제추가는 단어를 입력받아서 중복되지 않게 추가\n",
    "- 타자게임은 시간을 체크하고, 걸린시간을 사용자명과 함께 저장합니다. (딕셔너리로 저장: 등수데이터)\n",
    "- 등수리스트는 걸린시간이 적은 순서대로 정렬해서 출력합니다.\n",
    "- 종료하기는 등수리스트를 저장하고 진행합니다.\n",
    "- 프로그램이 시작될 때 문제와 등수정보를 읽어 옵니다."
   ]
  },
  {
   "cell_type": "code",
   "execution_count": null,
   "id": "28543f61-e520-4016-b043-40a7004a3dbc",
   "metadata": {},
   "outputs": [],
   "source": [
    "import random,time,json\n",
    "\n",
    "# word = [\"cat\", \"dog\", \"fox\", \"monkey\", \"mouse\", \"panda\", \"frog\", \"snake\", \"wolf\"]\n",
    "# rank = {'aaa':10.111}\n",
    "\n",
    "with open('word.json','r') as f:\n",
    "    word = json.load(f)\n",
    "with open('rank.json','r') as f:\n",
    "    rank = json.load(f) \n",
    "\n",
    "while True:\n",
    "    menu = input('''\n",
    "1.문제추가  2.타자게임  3.등수리스트 4.종료하기\n",
    "메뉴선택 >>> ''')\n",
    "    if menu =='1':\n",
    "        while True:\n",
    "            quiz = input('추가할 단어를 입력(종료:0) >>>')\n",
    "            while quiz in word:\n",
    "                quiz = input('중복된 단어 입니다. 다시 입력(종료:0) >>>')\n",
    "            if quiz == '0':\n",
    "                break\n",
    "            word.append(quiz)\n",
    "            print(word)\n",
    "        with open('word.json','w') as f:\n",
    "            json.dump(word,f)\n",
    "    elif menu == '2':\n",
    "        n = 1\n",
    "        quiz = random.choice(word)\n",
    "        input('시작!(enter)')\n",
    "        start = time.time()\n",
    "        while n <= 5:\n",
    "            print(f'{n}번')\n",
    "            print(quiz)\n",
    "            x = input()\n",
    "            if quiz == x:\n",
    "                print('통과!')\n",
    "                n += 1\n",
    "                quiz = random.choice(word)\n",
    "            else:\n",
    "                print('오타! 다시도전!') \n",
    "        print('5문제 다 맞췄습니다.')\n",
    "        end = time.time()\n",
    "        print(f'걸린시간:{end-start:.0f}초')\n",
    "        name = input('사용자명을 입력하세요 >>>')\n",
    "        while name in rank:\n",
    "            name = input('사용자명이 중복됩니다. 다른 이름을 입력하세요 >>>')\n",
    "        rank[name]=end-start\n",
    "        print(rank)\n",
    "    elif menu == '3':\n",
    "        ranklist = sorted(rank.items(),key=lambda x:x[1])\n",
    "        for index,item in enumerate(ranklist):\n",
    "            print(f'{index+1}등 {item[0]} {item[1]:.2f}')\n",
    "    elif menu == '4':\n",
    "        print('프로그램을 종료합니다.')\n",
    "        with open('rank.json','w') as f:\n",
    "            json.dump(rank,f)\n",
    "        break\n",
    "    else:\n",
    "        print('메뉴선택을 잘못하셨습니다.')"
   ]
  },
  {
   "cell_type": "code",
   "execution_count": null,
   "id": "d0d15830-608a-44d7-b15a-18c18fde3083",
   "metadata": {},
   "outputs": [],
   "source": [
    "word = ['cat','dog','fox','monkey','mouse','panda','frog','snake','wolf']\n",
    "\n"
   ]
  },
  {
   "cell_type": "code",
   "execution_count": null,
   "id": "39caa4bf-eea7-4318-90f7-9c5ef54958ef",
   "metadata": {},
   "outputs": [],
   "source": []
  }
 ],
 "metadata": {
  "kernelspec": {
   "display_name": "Python 3 (ipykernel)",
   "language": "python",
   "name": "python3"
  },
  "language_info": {
   "codemirror_mode": {
    "name": "ipython",
    "version": 3
   },
   "file_extension": ".py",
   "mimetype": "text/x-python",
   "name": "python",
   "nbconvert_exporter": "python",
   "pygments_lexer": "ipython3",
   "version": "3.9.7"
  }
 },
 "nbformat": 4,
 "nbformat_minor": 5
}
