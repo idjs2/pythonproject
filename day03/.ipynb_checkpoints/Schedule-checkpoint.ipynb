{
 "cells": [
  {
   "cell_type": "code",
   "execution_count": 5,
   "id": "cb859432-eea9-4fe7-9401-3d4c9fd53b7c",
   "metadata": {},
   "outputs": [],
   "source": [
    "dic = {'mon':0,'tue':1,'wed':2,'thu':3,'fri':4,'sat':5,'sun':6}  #요일별 번호 매기기\n",
    "weeks = ['mon', 'tue', 'wed', 'thu', 'fri' , 'sat', 'sun']  #요일명이 저장된 리스트\n",
    "\n",
    "schedule = [[], [], [], [], [], [], []]  #요일별 리스트가 저장될 리스트"
   ]
  },
  {
   "cell_type": "code",
   "execution_count": 6,
   "id": "409e0460-1fab-4748-a447-df8d0da4824c",
   "metadata": {},
   "outputs": [
    {
     "name": "stdin",
     "output_type": "stream",
     "text": [
      "\n",
      "-------------------------------------------------\n",
      "1.일정입력 2.일정확인 3.일정삭제. 4.프로그램종료\n",
      "-------------------------------------------------\n",
      "메뉴선택 >>>  4\n",
      "종료하시겠습니까? : Y/N y\n"
     ]
    },
    {
     "name": "stdout",
     "output_type": "stream",
     "text": [
      "프로그램 종료\n"
     ]
    }
   ],
   "source": [
    "while True:\n",
    "    choice = input('''\n",
    "-------------------------------------------------\n",
    "1.일정입력 2.일정확인 3.일정삭제. 4.프로그램종료\n",
    "-------------------------------------------------\n",
    "메뉴선택 >>> ''')\n",
    "    \n",
    "    if choice == '1':\n",
    "        while True:\n",
    "            days = input('''요일을 선택하세요.(종료:q)\n",
    "ex) mon, tue, wed, thu, fri , sat, sun\n",
    ">>>''')\n",
    "            if days.lower() == 'q' :\n",
    "                print(\"일정이 등록되었습니다.\")\n",
    "                break\n",
    "                \n",
    "            elif days == weeks[dic[days]] :\n",
    "                num = dic[days]\n",
    "\n",
    "                while True:\n",
    "                    name = input('추가할 일정을 입력하세요.(종료:q) >>> ')\n",
    "                    schedule[num].append(name)\n",
    "\n",
    "                    if name.lower() == 'q':\n",
    "                        schedule[num].remove('q')\n",
    "                        print(\"입력 완료\")\n",
    "                        print(schedule[num], '\\n')\n",
    "                        break\n",
    "                    else :\n",
    "                        print(weeks[num], '->', schedule[num], '\\n')\n",
    "                        \n",
    "                        \n",
    "    if choice == '2':\n",
    "        for i in weeks :\n",
    "            num = dic[i]\n",
    "            print('------ ', weeks[num] , ' ------')\n",
    "            for j in schedule[num] : \n",
    "                print(j, \"\\n\")\n",
    "                        \n",
    "    if choice == '3':\n",
    "        while True :\n",
    "            days = input('''요일을 선택하세요.(종료:q)\n",
    "ex) mon, tue, wed, thr, fri , sat, sun\n",
    ">>>''') \n",
    "            if days.lower() == 'q' :\n",
    "                print(\"일정이 등록되었습니다.\")\n",
    "                break\n",
    "            \n",
    "            elif days == weeks[dic[days]] :\n",
    "                num = dic[days]\n",
    "                print(weeks[num], '->', schedule[num], '\\n')\n",
    "                \n",
    "                while True :\n",
    "                    x = input('삭제할 일정을 입력하세요(종료:q) >>> ')\n",
    "\n",
    "                    if x.lower() == 'q' :\n",
    "                        print(\"삭제 완료\")\n",
    "                        print(schedule[num], '\\n')\n",
    "                        break\n",
    "                    elif x in schedule[num] :\n",
    "                        schedule[num].remove(x)\n",
    "                        print(weeks[num], '->', schedule[num], '\\n')\n",
    "                        \n",
    "                        \n",
    "    if choice == '4':\n",
    "        close = input('종료하시겠습니까? : Y/N')\n",
    "        if close.lower() == \"y\" :\n",
    "            print('프로그램 종료')\n",
    "            break"
   ]
  },
  {
   "cell_type": "code",
   "execution_count": null,
   "id": "6b72be7e-bb7f-42d3-a122-f85f5f084293",
   "metadata": {},
   "outputs": [],
   "source": []
  }
 ],
 "metadata": {
  "kernelspec": {
   "display_name": "Python 3 (ipykernel)",
   "language": "python",
   "name": "python3"
  },
  "language_info": {
   "codemirror_mode": {
    "name": "ipython",
    "version": 3
   },
   "file_extension": ".py",
   "mimetype": "text/x-python",
   "name": "python",
   "nbconvert_exporter": "python",
   "pygments_lexer": "ipython3",
   "version": "3.9.7"
  }
 },
 "nbformat": 4,
 "nbformat_minor": 5
}
